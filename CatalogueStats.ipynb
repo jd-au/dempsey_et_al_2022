{
 "cells": [
  {
   "cell_type": "code",
   "execution_count": 1,
   "metadata": {},
   "outputs": [],
   "source": [
    "import math\n",
    "import numpy as np\n",
    "from astropy.io.votable import parse_single_table\n",
    "import astropy.units as u\n",
    "import matplotlib.pyplot as plt\n",
    "from matplotlib.ticker import AutoMinorLocator\n",
    "import glob\n",
    "from scipy import stats\n",
    "\n",
    "import seaborn as sns\n",
    "import pandas as pd\n",
    "sns.set()"
   ]
  },
  {
   "cell_type": "markdown",
   "metadata": {},
   "source": [
    "## Catalogue statistics and plots\n",
    "\n",
    "Calculate statistics based on the spectra catalogue.\n",
    "\n",
    "### Table of Contents\n",
    "\n",
    "* [Noise Statistics](#Noise-Statistics)\n",
    "* [CDF of detections and non-detections](#CDF-of-detections-and-non-detections)\n",
    "* [Filter absorption in noisy spectra which were later excluded](#Filter-absorption-in-noisy-spectra-which-were-later-excluded)\n",
    "* [Plot of SMC absorption features by optical depth](#Plot-of-SMC-absorption-features-by-optical-depth)\n",
    "* [Comparison of detections with noise and flux](#Comparison-of-detections-with-noise-and-flux)\n",
    "\n",
    "\n",
    "### Noise Statistics\n"
   ]
  },
  {
   "cell_type": "code",
   "execution_count": 2,
   "metadata": {},
   "outputs": [
    {
     "name": "stderr",
     "output_type": "stream",
     "text": [
      "WARNING: W50: gaskap_smc_spectra.vot:32:3: W50: Invalid unit string 'mJy/beam' [astropy.io.votable.tree]\n",
      "WARNING: W50: gaskap_smc_spectra.vot:37:3: W50: Invalid unit string 'mJy/beam' [astropy.io.votable.tree]\n"
     ]
    }
   ],
   "source": [
    "#spec_tab = parse_single_table('sb10944/v3a/askap_spectra.vot').to_table()\n",
    "spec_tab = parse_single_table('gaskap_smc_spectra.vot').to_table()"
   ]
  },
  {
   "cell_type": "code",
   "execution_count": 3,
   "metadata": {},
   "outputs": [
    {
     "data": {
      "text/html": [
       "<i>Table masked=True length=229</i>\n",
       "<table id=\"table4704384672\" class=\"table-striped table-bordered table-condensed\">\n",
       "<thead><tr><th>id</th><th>comp_name</th><th>ra</th><th>dec</th><th>rating</th><th>flux_peak</th><th>mean_cont</th><th>sd_cont</th><th>opacity_range</th><th>max_s_max_n</th><th>max_noise</th><th>num_chan_noise</th><th>min_opacity</th><th>vel_min_opacity</th><th>peak_tau</th><th>e_peak_tau</th><th>has_mw_abs</th><th>has_other_abs</th><th>semi_maj_axis</th><th>semi_min_axis</th><th>pa</th><th>nh_gass</th><th>noise_flag</th><th>beam_power</th><th>nh_uncorr</th><th>e_nh_uncorr_high</th><th>e_nh_uncorr_low</th><th>nh_corr</th><th>e_nh_corr_high</th><th>e_nh_corr_low</th><th>r_hi</th><th>e_r_hi_high</th><th>e_r_hi_low</th><th>f_int</th><th>mean_ts</th><th>e_mean_ts_high</th><th>e_mean_ts_low</th><th>ew</th><th>e_ew_high</th><th>e_ew_low</th><th>num_chan</th></tr></thead>\n",
       "<thead><tr><th></th><th></th><th>deg</th><th>deg</th><th></th><th>mJy/beam</th><th>mJy/beam</th><th></th><th></th><th></th><th></th><th></th><th></th><th>km / s</th><th></th><th></th><th></th><th></th><th>arcsec</th><th>arcsec</th><th>deg</th><th>1 / cm2</th><th></th><th></th><th>1 / cm2</th><th>1 / cm2</th><th>1 / cm2</th><th>1 / cm2</th><th>1 / cm2</th><th>1 / cm2</th><th></th><th></th><th></th><th></th><th></th><th></th><th></th><th>km / s</th><th>km / s</th><th>km / s</th><th></th></tr></thead>\n",
       "<thead><tr><th>int64</th><th>str32</th><th>float64</th><th>float64</th><th>str1</th><th>float64</th><th>float64</th><th>float64</th><th>float64</th><th>float64</th><th>float64</th><th>float64</th><th>float64</th><th>float64</th><th>float64</th><th>float64</th><th>bool</th><th>bool</th><th>float64</th><th>float64</th><th>float64</th><th>float64</th><th>bool</th><th>float32</th><th>float64</th><th>float64</th><th>float64</th><th>float64</th><th>float64</th><th>float64</th><th>float64</th><th>float64</th><th>float64</th><th>float64</th><th>float64</th><th>float64</th><th>float64</th><th>float64</th><th>float64</th><th>float64</th><th>float64</th></tr></thead>\n",
       "<tr><td>1</td><td>J004725-712727</td><td>11.85596</td><td>-71.457707</td><td>B</td><td>15.015000343322754</td><td>0.0001577413873746991</td><td>0.20037295013116518</td><td>1.1125783920288086</td><td>1.0923846748301125</td><td>1.5317274332046509</td><td>43.0</td><td>0.41914910078048706</td><td>96.17224896304</td><td>0.869528591632843</td><td>0.3925101382105877</td><td>False</td><td>False</td><td>3.82400016784668</td><td>3.2720001220703128</td><td>133.6300048828125</td><td>6.174081421437779e+20</td><td>False</td><td>1.0359205</td><td>5.3681352738778035e+20</td><td>2.055848121587912e+19</td><td>2.0583805642083336e+19</td><td>6.102761578440182e+20</td><td>3.4751392622607598e+19</td><td>3.0792107892721582e+19</td><td>1.135551084172469</td><td>0.0407186152623733</td><td>0.03284365179935578</td><td>1.1028073395124844</td><td>49.98209873135783</td><td>15.397163964019093</td><td>10.247781470797385</td><td>7.717247360426716</td><td>2.2842825162824165</td><td>1.6082698574720897</td><td>40.0</td></tr>\n",
       "<tr><td>5</td><td>J002620-743741</td><td>6.586833</td><td>-74.628167</td><td>C</td><td>15.201000213623047</td><td>0.00014202001038938762</td><td>0.26400873561229615</td><td>1.9746829271316528</td><td>1.4209718128364035</td><td>1.815657138824463</td><td>67.0</td><td>-0.15902580320835114</td><td>132.02632915333402</td><td>5.0</td><td>3.8316940181297285</td><td>False</td><td>False</td><td>4.056000137329102</td><td>3.3919998168945313</td><td>135.64999389648438</td><td>1.3315663738275294e+21</td><td>False</td><td>0.88999236</td><td>1.6599191705539466e+21</td><td>4.386579917446054e+19</td><td>4.068653288839604e+19</td><td>1.9359336432858002e+21</td><td>1.0774614638732352e+20</td><td>8.823405460989044e+19</td><td>1.1655428979441065</td><td>0.05136514084624855</td><td>0.042564961331798434</td><td>1.107899601157662</td><td>134.4544547327015</td><td>75.29091081534114</td><td>37.52897323244342</td><td>12.890402430359927</td><td>4.147494729692533</td><td>2.941461868429861</td><td>75.0</td></tr>\n",
       "<tr><td>9</td><td>J011635-712604</td><td>19.148794</td><td>-71.434582</td><td>C</td><td>15.333000183105469</td><td>0.0001255630166269839</td><td>0.21174872823938362</td><td>1.6042497158050537</td><td>0.7604905305141251</td><td>1.9112515449523926</td><td>74.0</td><td>0.30700182914733887</td><td>185.81443163211898</td><td>1.1809015274047852</td><td>0.6544683758159434</td><td>False</td><td>False</td><td>3.8040000915527346</td><td>3.2080001831054688</td><td>142.02000427246094</td><td>1.227406986785527e+21</td><td>False</td><td>1.0161469</td><td>9.225906410409799e+20</td><td>3.1709622838580085e+19</td><td>2.8469665825475002e+19</td><td>1.0193064440086246e+21</td><td>5.644688378550891e+19</td><td>4.539505190344091e+19</td><td>1.1031294831257985</td><td>0.04499083352325273</td><td>0.03568619576330967</td><td>1.070964390989561</td><td>146.53632101005286</td><td>212.2463824431008</td><td>76.55952453457111</td><td>7.207530039675991</td><td>3.2779817575897567</td><td>2.514920429697532</td><td>85.0</td></tr>\n",
       "<tr><td>10</td><td>J010425-742733</td><td>16.10635</td><td>-74.459193</td><td>C</td><td>15.435999870300293</td><td>0.00011435524793341756</td><td>0.2508074329566693</td><td>1.681606411933899</td><td>0.8255535251261913</td><td>1.9211487770080566</td><td>78.0</td><td>0.2395423799753189</td><td>75.45870833663803</td><td>1.4290249347686768</td><td>0.7164151873632499</td><td>False</td><td>False</td><td>3.7599998474121095</td><td>3.2759998321533206</td><td>139.1699981689453</td><td>3.131320668910356e+20</td><td>False</td><td>0.95265865</td><td>0.0</td><td>0.0</td><td>0.0</td><td>0.0</td><td>0.0</td><td>0.0</td><td>--</td><td>--</td><td>--</td><td>--</td><td>--</td><td>--</td><td>--</td><td>0.0</td><td>0.0</td><td>0.0</td><td>0.0</td></tr>\n",
       "<tr><td>13</td><td>J005535-723533</td><td>13.899411</td><td>-72.592574</td><td>C</td><td>15.053000450134277</td><td>8.522021817043423e-05</td><td>0.16227310227980046</td><td>1.856298565864563</td><td>2.5452221979121297</td><td>1.5236057043075562</td><td>93.0</td><td>-0.33269286155700684</td><td>113.61597766529509</td><td>5.0</td><td>3.6192534660730047</td><td>False</td><td>True</td><td>5.552000045776367</td><td>4.431999969482422</td><td>140.7100067138672</td><td>7.446596934360939e+21</td><td>False</td><td>0.9928809</td><td>7.168226876960794e+21</td><td>6.6340713476586996e+19</td><td>6.726331614813487e+19</td><td>8.843626276630882e+21</td><td>3.628476748811773e+20</td><td>3.239942397242387e+20</td><td>1.2322084922320404</td><td>0.05165155267252364</td><td>0.041606787784398636</td><td>1.175805883533249</td><td>528.7622807422028</td><td>205.8532701106077</td><td>124.8570289946307</td><td>15.716832512486212</td><td>3.9184702066876436</td><td>2.7463186491828586</td><td>94.0</td></tr>\n",
       "<tr><td>14</td><td>J012336-703232</td><td>20.902153</td><td>-70.542329</td><td>C</td><td>15.822999954223633</td><td>0.00015618808101862668</td><td>0.24878249600046518</td><td>1.6433773040771484</td><td>0.9665233841956862</td><td>1.8356764316558838</td><td>55.0</td><td>0.19229918718338013</td><td>225.31028406877002</td><td>1.64870285987854</td><td>0.8308259887378207</td><td>False</td><td>False</td><td>3.9840000152587893</td><td>3.2560001373291017</td><td>123.41999816894531</td><td>4.156697450338526e+20</td><td>False</td><td>1.0374693</td><td>2.8916121721194486e+20</td><td>1.539119300772515e+19</td><td>1.4371778122551329e+19</td><td>2.9765258650279766e+20</td><td>2.1088729131827528e+19</td><td>1.853703250884087e+19</td><td>1.0277389930929741</td><td>0.043079501396199094</td><td>0.03411009995806202</td><td>0.9992775932261445</td><td>-82.19383961348811</td><td>47.12336926258767</td><td>150.8423491903021</td><td>-0.6540019668235202</td><td>1.8200106262402198</td><td>1.314905161865431</td><td>28.0</td></tr>\n",
       "<tr><td>15</td><td>J003530-723655</td><td>8.877739</td><td>-72.615448</td><td>C</td><td>16.052000045776367</td><td>0.0001357692526653409</td><td>0.26143587233583027</td><td>1.6275757551193237</td><td>0.8721049797536266</td><td>1.8693827390670776</td><td>72.0</td><td>0.2418069839477539</td><td>235.912981704439</td><td>1.4196155071258545</td><td>0.7330660214610306</td><td>False</td><td>False</td><td>3.808000183105469</td><td>3.2680000305175785</td><td>134.50999450683594</td><td>9.376269000777239e+20</td><td>False</td><td>0.9938403</td><td>8.3191098490323e+20</td><td>2.398441706077487e+19</td><td>2.656566752411871e+19</td><td>8.82097043671658e+20</td><td>4.572189541808184e+19</td><td>4.344191176534288e+19</td><td>1.0582341880355488</td><td>0.04386238401911635</td><td>0.034136622063602795</td><td>1.016004396742619</td><td>-155.1271184643627</td><td>555.064174180879</td><td>385.6141465960648</td><td>1.6787236247064377</td><td>3.106821610156467</td><td>2.123914930170058</td><td>54.0</td></tr>\n",
       "<tr><td>17</td><td>J010524-731518</td><td>16.350785</td><td>-73.255016</td><td>B</td><td>15.25100040435791</td><td>0.00016707086469978095</td><td>0.18895516231333526</td><td>1.185164451599121</td><td>0.9452755957894506</td><td>1.609252691268921</td><td>71.0</td><td>0.4240882992744446</td><td>337.83696333942095</td><td>0.8578135967254639</td><td>0.36849414393947005</td><td>False</td><td>False</td><td>4.072000122070313</td><td>3.295999908447266</td><td>138.88999938964844</td><td>4.025576393206028e+21</td><td>False</td><td>0.9779848</td><td>3.812027022781937e+21</td><td>6.09135922962162e+19</td><td>5.175640495270448e+19</td><td>3.882365470202602e+21</td><td>1.1279768611119956e+20</td><td>1.1486244646787901e+20</td><td>1.0172592446120539</td><td>0.02593710958467188</td><td>0.023983080810466073</td><td>0.9880511749343169</td><td>-524.229432977957</td><td>233.67086843812916</td><td>650.5840787171608</td><td>-0.6970567606051938</td><td>3.1150043375039065</td><td>2.2597793548099414</td><td>88.0</td></tr>\n",
       "<tr><td>19</td><td>J005448-725353</td><td>13.702572</td><td>-72.898137</td><td>C</td><td>15.98799991607666</td><td>0.00015485620824620127</td><td>0.18070838215007914</td><td>2.211228370666504</td><td>2.0076773559084584</td><td>1.7351946830749512</td><td>52.0</td><td>-0.4760337173938751</td><td>165.777135904169</td><td>5.0</td><td>3.821651016570783</td><td>False</td><td>True</td><td>3.8840000152587892</td><td>3.2680000305175785</td><td>137.1300048828125</td><td>6.945996611979021e+21</td><td>False</td><td>0.9740377</td><td>7.43866505345927e+21</td><td>6.504123039638723e+19</td><td>8.075688737587593e+19</td><td>9.80242498981033e+21</td><td>4.4323439703317126e+20</td><td>3.79623438977027e+20</td><td>1.3185782469928635</td><td>0.05525418791045089</td><td>0.04871039028888724</td><td>1.2337775557312536</td><td>223.98136174446972</td><td>40.35793460826085</td><td>28.02550154051221</td><td>29.100345322252238</td><td>5.131243000970013</td><td>3.141677521129128</td><td>106.0</td></tr>\n",
       "<tr><td>...</td><td>...</td><td>...</td><td>...</td><td>...</td><td>...</td><td>...</td><td>...</td><td>...</td><td>...</td><td>...</td><td>...</td><td>...</td><td>...</td><td>...</td><td>...</td><td>...</td><td>...</td><td>...</td><td>...</td><td>...</td><td>...</td><td>...</td><td>...</td><td>...</td><td>...</td><td>...</td><td>...</td><td>...</td><td>...</td><td>...</td><td>...</td><td>...</td><td>...</td><td>...</td><td>...</td><td>...</td><td>...</td><td>...</td><td>...</td><td>...</td></tr>\n",
       "<tr><td>359</td><td>J013229-723958</td><td>23.122667</td><td>-72.666314</td><td>B</td><td>209.31900024414062</td><td>0.0020493464544415474</td><td>0.017298944761479147</td><td>0.11533766984939575</td><td>0.7793517241379311</td><td>1.0648200511932373</td><td>155.0</td><td>0.9494823813438416</td><td>142.32620152984975</td><td>0.05183830484747887</td><td>0.01893944799800714</td><td>False</td><td>False</td><td>4.052000045776367</td><td>3.295999908447266</td><td>147.49000549316406</td><td>1.0837332702089371e+21</td><td>False</td><td>0.9246153</td><td>1.2900712143944792e+21</td><td>3.6651591372545982e+19</td><td>3.262689212885893e+19</td><td>1.2850107106698634e+21</td><td>3.688986657582167e+19</td><td>3.252002183262372e+19</td><td>0.996083907170997</td><td>0.0011948829533157124</td><td>0.0011663846668111821</td><td>0.9959664361976321</td><td>-1006.0366723786802</td><td>219.07582015408423</td><td>374.30679967258004</td><td>-0.6804124389147457</td><td>0.19701461914683646</td><td>0.1926794415743526</td><td>102.0</td></tr>\n",
       "<tr><td>360</td><td>J004330-704148</td><td>10.876949</td><td>-70.696825</td><td>B</td><td>195.6490020751953</td><td>0.001407633163034916</td><td>0.015431980101153556</td><td>0.10289806127548218</td><td>0.6654604285730824</td><td>1.0617835521697998</td><td>158.0</td><td>0.9644930958747864</td><td>72.86878165329702</td><td>0.03615260496735573</td><td>0.015875724317874148</td><td>False</td><td>False</td><td>4.747999954223633</td><td>3.8279998779296878</td><td>125.5999984741211</td><td>2.227711098961361e+20</td><td>False</td><td>0.96669877</td><td>0.0</td><td>0.0</td><td>0.0</td><td>0.0</td><td>0.0</td><td>0.0</td><td>--</td><td>--</td><td>--</td><td>--</td><td>--</td><td>--</td><td>--</td><td>0.0</td><td>0.0</td><td>0.0</td><td>0.0</td></tr>\n",
       "<tr><td>361</td><td>J004327-704136</td><td>10.862805</td><td>-70.693506</td><td>B</td><td>205.53399658203125</td><td>0.0015171095728874207</td><td>0.015008341053985904</td><td>0.10010427236557007</td><td>0.6717741518050894</td><td>1.0598790645599365</td><td>112.0</td><td>0.968277096748352</td><td>55.86812126400002</td><td>0.0322369746863842</td><td>0.015381148339084483</td><td>False</td><td>False</td><td>4.843999862670898</td><td>3.9880001068115236</td><td>127.8499984741211</td><td>2.227711098961361e+20</td><td>False</td><td>0.96571594</td><td>0.0</td><td>0.0</td><td>0.0</td><td>0.0</td><td>0.0</td><td>0.0</td><td>--</td><td>--</td><td>--</td><td>--</td><td>--</td><td>--</td><td>--</td><td>0.0</td><td>0.0</td><td>0.0</td><td>0.0</td></tr>\n",
       "<tr><td>363</td><td>J003824-742212</td><td>9.601043</td><td>-74.370136</td><td>A</td><td>262.9289855957031</td><td>0.0023284362629055976</td><td>0.015432674736464124</td><td>0.5113893151283264</td><td>7.931184705260221</td><td>1.0572588443756104</td><td>116.0</td><td>0.5458695292472839</td><td>148.7213839207213</td><td>0.6053752899169922</td><td>0.03580271288391201</td><td>False</td><td>True</td><td>3.8279998779296878</td><td>3.347999954223633</td><td>135.83999633789062</td><td>2.3110926940949856e+21</td><td>False</td><td>1.1108127</td><td>2.1514906509853957e+21</td><td>4.00807485699402e+19</td><td>3.759098024091451e+19</td><td>2.2480649650246042e+21</td><td>4.15634204430817e+19</td><td>3.867955451859907e+19</td><td>1.0449278987511774</td><td>0.0021045596039939163</td><td>0.002476360583927084</td><td>1.0447044119711615</td><td>468.25364644079053</td><td>35.28085211142178</td><td>29.316316608612397</td><td>2.902350774043428</td><td>0.17574223893587387</td><td>0.17260623279106174</td><td>74.0</td></tr>\n",
       "<tr><td>366</td><td>J004047-714600</td><td>10.199141</td><td>-71.766671</td><td>B</td><td>423.1180114746094</td><td>0.0039046332240104675</td><td>0.009385419990602953</td><td>0.10788482427597046</td><td>1.6363958132448517</td><td>1.0409213304519653</td><td>143.0</td><td>0.9785947203636169</td><td>261.42211193440505</td><td>0.021637694910168648</td><td>0.009545012636942463</td><td>True</td><td>False</td><td>3.879999923706055</td><td>3.379999923706055</td><td>133.0</td><td>4.498523544199441e+20</td><td>False</td><td>1.0479877</td><td>3.909504246524037e+20</td><td>1.735649615802499e+19</td><td>1.6329181485045318e+19</td><td>3.9101301998952835e+20</td><td>1.7382578248336015e+19</td><td>1.6485586770478105e+19</td><td>1.0002068451884676</td><td>0.0009294633163672295</td><td>0.0008948342117711672</td><td>1.000153112396176</td><td>2248.341470501822</td><td>7677.5855757247355</td><td>10828.01991969869</td><td>0.0075553070548334995</td><td>0.06357884203850993</td><td>0.062199982810763096</td><td>36.0</td></tr>\n",
       "<tr><td>367</td><td>J005732-741243</td><td>14.384618</td><td>-74.21214</td><td>A</td><td>439.3580017089844</td><td>0.003552520275115967</td><td>0.007003060144984144</td><td>0.5232495069503784</td><td>9.375721860159466</td><td>1.050430178642273</td><td>161.0</td><td>0.5271806716918945</td><td>139.403721756462</td><td>0.6402119398117065</td><td>0.014474278291857323</td><td>False</td><td>True</td><td>3.82400016784668</td><td>3.3000000000000003</td><td>141.3699951171875</td><td>5.650006363547815e+20</td><td>False</td><td>1.0241308</td><td>4.6937928409513296e+20</td><td>2.535904099929247e+19</td><td>2.5350330517947286e+19</td><td>4.6802061068159405e+20</td><td>2.7412421752717115e+19</td><td>2.6509945782338585e+19</td><td>0.9971413906979425</td><td>0.007103550513361867</td><td>0.007470424796273134</td><td>0.9969816048929243</td><td>250.62774962830343</td><td>20.918872115702868</td><td>18.03166774714481</td><td>1.3133000463898767</td><td>0.05946245248054211</td><td>0.05801588696544489</td><td>48.0</td></tr>\n",
       "<tr><td>368</td><td>J011050-731426</td><td>17.70945</td><td>-73.240658</td><td>A</td><td>51.61000061035156</td><td>0.0013980407267808915</td><td>0.006269954931580313</td><td>0.49523240327835083</td><td>11.287187852150689</td><td>1.0403047800064087</td><td>110.0</td><td>0.5450723767280579</td><td>158.77723703808198</td><td>0.6068366765975952</td><td>0.017969796450577946</td><td>False</td><td>True</td><td>7.800000000000001</td><td>4.643999862670898</td><td>65.37999725341797</td><td>4.874624237341684e+21</td><td>False</td><td>0.9756308</td><td>4.993101620492381e+21</td><td>6.299586396707252e+19</td><td>6.008811830650077e+19</td><td>5.468075387342918e+21</td><td>6.897615573838148e+19</td><td>6.991026869675177e+19</td><td>1.0948079414549876</td><td>0.0016993716341069387</td><td>0.001776527990437149</td><td>1.0947298914859847</td><td>414.53470093431844</td><td>7.916473686712379</td><td>7.575955340704581</td><td>7.667418695865694</td><td>0.0965139050811242</td><td>0.09510704403196973</td><td>96.0</td></tr>\n",
       "<tr><td>369</td><td>J011056-731407</td><td>17.735087</td><td>-73.235373</td><td>A</td><td>100.07099914550781</td><td>0.0006308105308562517</td><td>0.02019299916640619</td><td>0.526335597038269</td><td>5.1554139115087185</td><td>1.0855077505111694</td><td>120.0</td><td>0.5591721534729004</td><td>154.7736134259414</td><td>0.5812978744506836</td><td>0.054196630219445985</td><td>False</td><td>True</td><td>5.32400016784668</td><td>4.368000030517578</td><td>44.209999084472656</td><td>4.874624237341684e+21</td><td>False</td><td>0.9759823</td><td>4.99700712737199e+21</td><td>1.0324696312645681e+20</td><td>1.066649576056134e+20</td><td>5.474754508563415e+21</td><td>1.1361524501273117e+20</td><td>1.214663625126529e+20</td><td>1.095403029473987</td><td>0.003908834204582767</td><td>0.003734822110204261</td><td>1.0951384383463547</td><td>348.39905392871503</td><td>14.251402569772779</td><td>13.925293236851758</td><td>9.003338440691211</td><td>0.31560472322481464</td><td>0.30907919647346466</td><td>97.0</td></tr>\n",
       "<tr><td>370</td><td>J011049-731428</td><td>17.706215</td><td>-73.24123</td><td>A</td><td>404.01300048828125</td><td>0.004489472508430481</td><td>0.006336136398156126</td><td>0.49825817346572876</td><td>11.825352186146986</td><td>1.0388494729995728</td><td>114.0</td><td>0.540591299533844</td><td>158.77764617818198</td><td>0.6150917410850525</td><td>0.018306951997724252</td><td>True</td><td>True</td><td>3.908000183105469</td><td>3.368000030517578</td><td>132.3300018310547</td><td>4.874624237341684e+21</td><td>False</td><td>0.9755575</td><td>4.979567166287046e+21</td><td>5.771513047982329e+19</td><td>6.456734274859355e+19</td><td>5.459276254644997e+21</td><td>6.579936354736223e+19</td><td>7.099709904928113e+19</td><td>1.0965195924946167</td><td>0.0016434157420854856</td><td>0.0016521176763915069</td><td>1.0964482500293113</td><td>408.842798689038</td><td>7.133092571009911</td><td>6.81073374338979</td><td>7.75992137566401</td><td>0.09748113634990156</td><td>0.09666829411968282</td><td>95.0</td></tr>\n",
       "<tr><td>373</td><td>J005611-710707</td><td>14.046943</td><td>-71.118842</td><td>B</td><td>612.5349731445312</td><td>0.00514659658074379</td><td>0.00614439105492543</td><td>0.1257706880569458</td><td>2.430480996524131</td><td>1.0366626977920532</td><td>141.0</td><td>0.9158968329429626</td><td>141.88513117982598</td><td>0.08785154670476913</td><td>0.008589259861801146</td><td>True</td><td>True</td><td>3.8520000457763675</td><td>3.2759998321533206</td><td>133.13999938964844</td><td>1.2366119809346026e+21</td><td>False</td><td>1.0085413</td><td>8.250096410287153e+20</td><td>2.6563681476274553e+19</td><td>2.7997771864094278e+19</td><td>8.430672715741587e+20</td><td>2.7166947695689597e+19</td><td>2.8292959467252613e+19</td><td>1.0220295083004847</td><td>0.0012151290776980517</td><td>0.001140202227694953</td><td>1.0220675697238597</td><td>568.187321955746</td><td>38.97155009076755</td><td>35.143013733667544</td><td>0.8226366231650257</td><td>0.044264585235190765</td><td>0.044092394924334824</td><td>28.0</td></tr>\n",
       "</table>"
      ],
      "text/plain": [
       "<Table masked=True length=229>\n",
       "  id    comp_name        ra    ...       e_ew_low       num_chan\n",
       "                        deg    ...        km / s                \n",
       "int64     str32       float64  ...       float64        float64 \n",
       "----- -------------- --------- ... -------------------- --------\n",
       "    1 J004725-712727  11.85596 ...   1.6082698574720897     40.0\n",
       "    5 J002620-743741  6.586833 ...    2.941461868429861     75.0\n",
       "    9 J011635-712604 19.148794 ...    2.514920429697532     85.0\n",
       "   10 J010425-742733  16.10635 ...                  0.0      0.0\n",
       "   13 J005535-723533 13.899411 ...   2.7463186491828586     94.0\n",
       "   14 J012336-703232 20.902153 ...    1.314905161865431     28.0\n",
       "   15 J003530-723655  8.877739 ...    2.123914930170058     54.0\n",
       "   17 J010524-731518 16.350785 ...   2.2597793548099414     88.0\n",
       "   19 J005448-725353 13.702572 ...    3.141677521129128    106.0\n",
       "  ...            ...       ... ...                  ...      ...\n",
       "  359 J013229-723958 23.122667 ...   0.1926794415743526    102.0\n",
       "  360 J004330-704148 10.876949 ...                  0.0      0.0\n",
       "  361 J004327-704136 10.862805 ...                  0.0      0.0\n",
       "  363 J003824-742212  9.601043 ...  0.17260623279106174     74.0\n",
       "  366 J004047-714600 10.199141 ... 0.062199982810763096     36.0\n",
       "  367 J005732-741243 14.384618 ...  0.05801588696544489     48.0\n",
       "  368 J011050-731426  17.70945 ...  0.09510704403196973     96.0\n",
       "  369 J011056-731407 17.735087 ...  0.30907919647346466     97.0\n",
       "  370 J011049-731428 17.706215 ...  0.09666829411968282     95.0\n",
       "  373 J005611-710707 14.046943 ... 0.044092394924334824     28.0"
      ]
     },
     "execution_count": 3,
     "metadata": {},
     "output_type": "execute_result"
    }
   ],
   "source": [
    "spec_tab"
   ]
  },
  {
   "cell_type": "code",
   "execution_count": 4,
   "metadata": {},
   "outputs": [
    {
     "name": "stdout",
     "output_type": "stream",
     "text": [
      "Flux range 0 to 20 has median 0.1680 and mean 0.1679 3-sigma opacity 0.496 tau  0.701  for 66 records\n",
      "Flux range 20 to 25 has median 0.1435 and mean 0.1450 3-sigma opacity 0.570 tau  0.563  for 44 records\n",
      "Flux range 25 to 30 has median 0.1170 and mean 0.1176 3-sigma opacity 0.649 tau  0.432  for 24 records\n",
      "Flux range 30 to 35 has median 0.1054 and mean 0.1054 3-sigma opacity 0.684 tau  0.380  for 22 records\n",
      "Flux range 35 to 40 has median 0.0932 and mean 0.1005 3-sigma opacity 0.721 tau  0.328  for 9 records\n",
      "Flux range 40 to 45 has median 0.0818 and mean 0.0755 3-sigma opacity 0.755 tau  0.282  for 10 records\n",
      "Flux range 45 to 55 has median 0.0579 and mean 0.0610 3-sigma opacity 0.826 tau  0.191  for 9 records\n",
      "Flux range 55 to 650 has median 0.0370 and mean 0.0370 3-sigma opacity 0.889 tau  0.118  for 45 records\n"
     ]
    },
    {
     "name": "stderr",
     "output_type": "stream",
     "text": [
      "/Users/jamesdempsey/anaconda/envs/python3/lib/python3.6/site-packages/numpy/core/fromnumeric.py:745: UserWarning: Warning: 'partition' will ignore the 'mask' of the MaskedColumn.\n",
      "  a.partition(kth, axis=axis, kind=kind, order=order)\n"
     ]
    }
   ],
   "source": [
    "min_flux = 0\n",
    "max_fluxes = [20, 25, 30, 35, 40, 45, 55, 650]\n",
    "noise_levels = []\n",
    "for max_flux in max_fluxes:\n",
    "    subset = (spec_tab['flux_peak'] > min_flux) & (spec_tab['flux_peak'] <= max_flux)\n",
    "    targets = spec_tab[subset]\n",
    "    fp_med = np.median(targets['sd_cont'])\n",
    "    fp_mean = np.mean(targets['sd_cont'])\n",
    "    min_opacity = 1- (fp_med*3)\n",
    "    min_tau = 0 if min_opacity < 0 else -1*np.log(min_opacity)\n",
    "    print (\"Flux range {:.0f} to {:.0f} has median {:.4f} and mean {:.4f} 3-sigma opacity {:.3f} tau  {:.3f}  for {} records\".format(\n",
    "        min_flux, max_flux, fp_med, fp_mean, min_opacity, min_tau, len(targets)))\n",
    "    noise_levels.append(targets['sd_cont'].filled().data)\n",
    "    min_flux = max_flux"
   ]
  },
  {
   "cell_type": "code",
   "execution_count": 5,
   "metadata": {},
   "outputs": [
    {
     "name": "stderr",
     "output_type": "stream",
     "text": [
      "/Users/jamesdempsey/anaconda/envs/python3/lib/python3.6/site-packages/ipykernel_launcher.py:2: RuntimeWarning: invalid value encountered in log\n",
      "  \n"
     ]
    }
   ],
   "source": [
    "min_tau_3s = -1*np.log(1- (spec_tab['sd_cont']*3))\n",
    "min_tau_5s = -1*np.log(1- (spec_tab['sd_cont']*5))"
   ]
  },
  {
   "cell_type": "code",
   "execution_count": 6,
   "metadata": {},
   "outputs": [
    {
     "data": {
      "text/html": [
       "&lt;MaskedColumn name=&apos;sd_cont&apos; dtype=&apos;float64&apos; length=229&gt;\n",
       "<table>\n",
       "<tr><td>0.9190917771249403</td></tr>\n",
       "<tr><td>1.5703432016268986</td></tr>\n",
       "<tr><td>1.0085326316425858</td></tr>\n",
       "<tr><td>1.3960308022839212</td></tr>\n",
       "<tr><td>0.6671272674459887</td></tr>\n",
       "<tr><td>1.3717900116137671</td></tr>\n",
       "<tr><td>1.533902039179903</td></tr>\n",
       "<tr><td>0.8367069455042913</td></tr>\n",
       "<tr><td>0.7811593777308482</td></tr>\n",
       "<tr><td>0.962662570922434</td></tr>\n",
       "<tr><td>1.0213638985813918</td></tr>\n",
       "<tr><td>0.8631124854403135</td></tr>\n",
       "<tr><td>...</td></tr>\n",
       "<tr><td>0.05823563528652889</td></tr>\n",
       "<tr><td>0.05701692447279397</td></tr>\n",
       "<tr><td>0.05329195805360663</td></tr>\n",
       "<tr><td>0.047401865620612306</td></tr>\n",
       "<tr><td>0.04607014110852213</td></tr>\n",
       "<tr><td>0.04740405068859776</td></tr>\n",
       "<tr><td>0.02856024873304805</td></tr>\n",
       "<tr><td>0.021233013855096402</td></tr>\n",
       "<tr><td>0.018989020454641986</td></tr>\n",
       "<tr><td>0.06249154828257347</td></tr>\n",
       "<tr><td>0.019191391517192537</td></tr>\n",
       "<tr><td>0.01860518114913992</td></tr>\n",
       "</table>"
      ],
      "text/plain": [
       "<MaskedColumn name='sd_cont' dtype='float64' length=229>\n",
       "  0.9190917771249403\n",
       "  1.5703432016268986\n",
       "  1.0085326316425858\n",
       "  1.3960308022839212\n",
       "  0.6671272674459887\n",
       "  1.3717900116137671\n",
       "   1.533902039179903\n",
       "  0.8367069455042913\n",
       "  0.7811593777308482\n",
       "   0.962662570922434\n",
       "  1.0213638985813918\n",
       "  0.8631124854403135\n",
       "                 ...\n",
       " 0.05823563528652889\n",
       " 0.05701692447279397\n",
       " 0.05329195805360663\n",
       "0.047401865620612306\n",
       " 0.04607014110852213\n",
       " 0.04740405068859776\n",
       " 0.02856024873304805\n",
       "0.021233013855096402\n",
       "0.018989020454641986\n",
       " 0.06249154828257347\n",
       "0.019191391517192537\n",
       " 0.01860518114913992"
      ]
     },
     "execution_count": 6,
     "metadata": {},
     "output_type": "execute_result"
    }
   ],
   "source": [
    "min_tau_3s"
   ]
  },
  {
   "cell_type": "code",
   "execution_count": 7,
   "metadata": {},
   "outputs": [
    {
     "data": {
      "text/plain": [
       "(array([ 3., 11., 10., 12., 13.,  8.,  2.,  4.,  2.,  1.]),\n",
       " array([0.01860518, 0.21093943, 0.40327368, 0.59560792, 0.78794217,\n",
       "        0.98027642, 1.17261066, 1.36494491, 1.55727916, 1.74961341,\n",
       "        1.94194765]),\n",
       " <a list of 10 Patch objects>)"
      ]
     },
     "execution_count": 7,
     "metadata": {},
     "output_type": "execute_result"
    },
    {
     "data": {
      "image/png": "[encoded data removed]",
      "text/plain": [
       "<Figure size 432x288 with 1 Axes>"
      ]
     },
     "metadata": {},
     "output_type": "display_data"
    }
   ],
   "source": [
    "min_flux = 0\n",
    "max_flux = 20\n",
    "subset = (spec_tab['flux_peak'] <= max_flux)\n",
    "values, bins, patches = plt.hist(min_tau_3s)\n",
    "plt.hist(min_tau_3s[subset], bins=bins)"
   ]
  },
  {
   "cell_type": "code",
   "execution_count": 8,
   "metadata": {},
   "outputs": [
    {
     "data": {
      "text/plain": [
       "(array([ 6., 10., 10.,  9.,  1.,  4.,  3.,  1.,  1.,  0.]),\n",
       " array([0. , 0.5, 1. , 1.5, 2. , 2.5, 3. , 3.5, 4. , 4.5, 5. ]),\n",
       " <a list of 10 Patch objects>)"
      ]
     },
     "execution_count": 8,
     "metadata": {},
     "output_type": "execute_result"
    },
    {
     "data": {
      "image/png": "[encoded data removed]",
      "text/plain": [
       "<Figure size 432x288 with 1 Axes>"
      ]
     },
     "metadata": {},
     "output_type": "display_data"
    }
   ],
   "source": [
    "values, bins, patches = plt.hist(min_tau_5s, range=(0,5))\n",
    "plt.hist(min_tau_5s[subset], bins=bins)"
   ]
  },
  {
   "cell_type": "code",
   "execution_count": 9,
   "metadata": {},
   "outputs": [],
   "source": [
    "flux_bucket = np.zeros(len(spec_tab), dtype=int)\n",
    "min_flux = 0\n",
    "max_fluxes = [20, 25, 30, 40, 50, 650]\n",
    "bin_size = []\n",
    "bin_detections = []\n",
    "bin_label = []\n",
    "\n",
    "for flux in max_fluxes:\n",
    "    subset = (spec_tab['flux_peak'] > min_flux) & (spec_tab['flux_peak'] <= flux)\n",
    "    flux_bucket[subset] = flux\n",
    "    bin_size.append(np.sum(subset))\n",
    "    detections = spec_tab[subset]['has_other_abs']\n",
    "    bin_detections.append(np.sum(detections))\n",
    "    bin_label.append('>{:.0f}'.format(min_flux) if flux == max_fluxes[-1] else '{:.0f} - {:.0f}'.format(min_flux, flux))\n",
    "\n",
    "    min_flux = flux"
   ]
  },
  {
   "cell_type": "code",
   "execution_count": 10,
   "metadata": {},
   "outputs": [
    {
     "data": {
      "image/png": "[encoded data removed]",
      "text/plain": [
       "<Figure size 864x360 with 2 Axes>"
      ]
     },
     "metadata": {},
     "output_type": "display_data"
    }
   ],
   "source": [
    "sns.set_context(\"talk\")\n",
    "fig, axes = plt.subplots(1,2, figsize=(12,5))\n",
    "sns.boxplot(x=flux_bucket, y=spec_tab['sd_cont'], ax=axes[0])\n",
    "axes[0].set_xlabel(r'Bin Maximum Peak Flux (mJy)')\n",
    "axes[0].set_ylabel(r'Optical Depth Noise')\n",
    "\n",
    "sns.barplot(x=max_fluxes, y=bin_size, ax=axes[1], palette='pastel')\n",
    "sns.barplot(x=max_fluxes, y=bin_detections, ax=axes[1], palette='muted')\n",
    "axes[1].set_xlabel(r'Bin Maximum Peak Flux (mJy)')\n",
    "axes[1].set_ylabel(r'Number of Sources')\n",
    "\n",
    "fig.set_tight_layout(True)\n",
    "fig.savefig('figures/noise_by_peak_flux.png')"
   ]
  },
  {
   "cell_type": "code",
   "execution_count": 11,
   "metadata": {},
   "outputs": [
    {
     "data": {
      "image/png": "[encoded data removed]",
      "text/plain": [
       "<Figure size 864x360 with 2 Axes>"
      ]
     },
     "metadata": {},
     "output_type": "display_data"
    }
   ],
   "source": [
    "sns.set_context(\"talk\")\n",
    "fig, axes = plt.subplots(1,2, figsize=(12,5))\n",
    "sns.boxplot(x=flux_bucket, y=spec_tab['sd_cont'], ax=axes[0])\n",
    "axes[0].set_xlabel(r'Bin Maximum Peak Flux (mJy)')\n",
    "axes[0].set_ylabel(r'Optical Depth Noise')\n",
    "\n",
    "sns.barplot(x=max_fluxes, y=bin_size, ax=axes[1], palette='pastel')\n",
    "#sns.barplot(x=max_fluxes, y=bin_detections, ax=axes[1], palette='muted')\n",
    "axes[1].set_xlabel(r'Bin Maximum Peak Flux (mJy)')\n",
    "axes[1].set_ylabel(r'Number of Sources')\n",
    "\n",
    "fig.set_tight_layout(True)"
   ]
  },
  {
   "cell_type": "code",
   "execution_count": 35,
   "metadata": {},
   "outputs": [
    {
     "data": {
      "image/png": "[encoded data removed]",
      "text/plain": [
       "<Figure size 432x288 with 1 Axes>"
      ]
     },
     "metadata": {},
     "output_type": "display_data"
    }
   ],
   "source": [
    "sns.set_context(\"talk\")\n",
    "sns.set_theme(style='whitegrid')\n",
    "fig, ax = plt.subplots(1,1) #, figsize=(6.4, 4.8))\n",
    "ax.set_xscale('log', basex=10,subsx=[2, 3, 4, 5, 6, 7, 8, 9])\n",
    "ax.set_yscale('log', basey=10,subsy=[2, 3, 4, 5, 6, 7, 8, 9])\n",
    "ax.set_yticklabels(labels=['', '', '1', '10'])\n",
    "ax.scatter(spec_tab['flux_peak'], spec_tab['sd_cont']*100)\n",
    "ax.set_xlabel('Continuum Peak Flux (mJy)', size=12)\n",
    "ax.set_ylabel('Optical Depth Noise (percent)', size=12)\n",
    "ax.set_xlim(10, 1000)\n",
    "ax.set_ylim(0.4, 40)\n",
    "ax.tick_params(which='both', direction='in', bottom=True, top=True, left=True, right=True, color='black', length=5)\n",
    "ax.set_title('Noise levels for SMC continuum sources (20 hours)', size=14)\n",
    "fig.savefig('figures/flux-noise.png', bbox_inches='tight', dpi=200)\n",
    "fig.savefig('figures/flux-noise.pdf', bbox_inches='tight')"
   ]
  },
  {
   "cell_type": "code",
   "execution_count": 53,
   "metadata": {},
   "outputs": [
    {
     "data": {
      "image/png": "[encoded data removed]",
      "text/plain": [
       "<Figure size 432x288 with 1 Axes>"
      ]
     },
     "metadata": {},
     "output_type": "display_data"
    }
   ],
   "source": [
    "#sns.histplot(data=spec_tab['sd_cont'], weights = np.ones(len(spec_tab))*1/18)\n",
    "fig, ax = plt.subplots(1,1) #, figsize=(6.4, 4.8))\n",
    "\n",
    "ax.hist(spec_tab['sd_cont']*100, bins=10, weights=np.ones(len(spec_tab))*1/18)\n",
    "ax.set_xlabel('Optical Depth Noise (percent)', size=12)\n",
    "ax.set_ylabel('Sources per Square Degree', size=12)\n",
    "ax.set_title('Noise levels for SMC continuum sources (20 hours)', size=14)\n",
    "\n",
    "plt.show()\n",
    "#fig.savefig('figures/noise-src-count.png', bbox_inches='tight', dpi=200)\n",
    "#fig.savefig('figures/noise-src-count.pdf', bbox_inches='tight')\n"
   ]
  },
  {
   "cell_type": "code",
   "execution_count": 55,
   "metadata": {},
   "outputs": [
    {
     "data": {
      "image/png": "[encoded data removed]",
      "text/plain": [
       "<Figure size 432x288 with 1 Axes>"
      ]
     },
     "metadata": {},
     "output_type": "display_data"
    }
   ],
   "source": [
    "fig, ax = plt.subplots(1,1) #, figsize=(6.4, 4.8))\n",
    "\n",
    "logbins = np.logspace(np.log10(0.4),np.log10(40),11)\n",
    "ax.hist(spec_tab['sd_cont']*100, bins=logbins, weights=np.ones(len(spec_tab))*1/18)\n",
    "ax.set_xscale('log', basex=10,subsx=[2, 3, 4, 5, 6, 7, 8, 9])\n",
    "\n",
    "ax.set_xticklabels(labels=['', '', '1', '10'])\n",
    "ax.tick_params(axis='x', which='both', direction='in', bottom=True, top=True, color='black', length=5)\n",
    "ax.set_xlabel('Optical Depth Noise (percent)', size=12)\n",
    "ax.set_ylabel('Sources per Square Degree', size=12)\n",
    "ax.set_title('Noise levels for SMC continuum sources (20 hours)', size=14)\n",
    "\n",
    "\n",
    "fig.savefig('figures/noise-src-count.png', bbox_inches='tight', dpi=200)\n",
    "fig.savefig('figures/noise-src-count.pdf', bbox_inches='tight')\n",
    "\n"
   ]
  },
  {
   "cell_type": "markdown",
   "metadata": {},
   "source": [
    "### CDF of detections and non-detections"
   ]
  },
  {
   "cell_type": "code",
   "execution_count": 21,
   "metadata": {},
   "outputs": [],
   "source": [
    "df = spec_tab.to_pandas()"
   ]
  },
  {
   "cell_type": "code",
   "execution_count": 22,
   "metadata": {},
   "outputs": [
    {
     "data": {
      "text/html": [
       "<div>\n",
       "<style scoped>\n",
       "    .dataframe tbody tr th:only-of-type {\n",
       "        vertical-align: middle;\n",
       "    }\n",
       "\n",
       "    .dataframe tbody tr th {\n",
       "        vertical-align: top;\n",
       "    }\n",
       "\n",
       "    .dataframe thead th {\n",
       "        text-align: right;\n",
       "    }\n",
       "</style>\n",
       "<table border=\"1\" class=\"dataframe\">\n",
       "  <thead>\n",
       "    <tr style=\"text-align: right;\">\n",
       "      <th></th>\n",
       "      <th>id</th>\n",
       "      <th>comp_name</th>\n",
       "      <th>ra</th>\n",
       "      <th>dec</th>\n",
       "      <th>rating</th>\n",
       "      <th>flux_peak</th>\n",
       "      <th>mean_cont</th>\n",
       "      <th>sd_cont</th>\n",
       "      <th>opacity_range</th>\n",
       "      <th>max_s_max_n</th>\n",
       "      <th>...</th>\n",
       "      <th>e_r_hi_high</th>\n",
       "      <th>e_r_hi_low</th>\n",
       "      <th>f_int</th>\n",
       "      <th>mean_ts</th>\n",
       "      <th>e_mean_ts_high</th>\n",
       "      <th>e_mean_ts_low</th>\n",
       "      <th>ew</th>\n",
       "      <th>e_ew_high</th>\n",
       "      <th>e_ew_low</th>\n",
       "      <th>num_chan</th>\n",
       "    </tr>\n",
       "  </thead>\n",
       "  <tbody>\n",
       "    <tr>\n",
       "      <th>0</th>\n",
       "      <td>1</td>\n",
       "      <td>J004725-712727</td>\n",
       "      <td>11.855960</td>\n",
       "      <td>-71.457707</td>\n",
       "      <td>B</td>\n",
       "      <td>15.015000</td>\n",
       "      <td>0.000158</td>\n",
       "      <td>0.200373</td>\n",
       "      <td>1.112578</td>\n",
       "      <td>1.092385</td>\n",
       "      <td>...</td>\n",
       "      <td>0.040719</td>\n",
       "      <td>0.032844</td>\n",
       "      <td>1.102807</td>\n",
       "      <td>49.982099</td>\n",
       "      <td>15.397164</td>\n",
       "      <td>10.247781</td>\n",
       "      <td>7.717247</td>\n",
       "      <td>2.284283</td>\n",
       "      <td>1.608270</td>\n",
       "      <td>40.0</td>\n",
       "    </tr>\n",
       "    <tr>\n",
       "      <th>1</th>\n",
       "      <td>5</td>\n",
       "      <td>J002620-743741</td>\n",
       "      <td>6.586833</td>\n",
       "      <td>-74.628167</td>\n",
       "      <td>C</td>\n",
       "      <td>15.201000</td>\n",
       "      <td>0.000142</td>\n",
       "      <td>0.264009</td>\n",
       "      <td>1.974683</td>\n",
       "      <td>1.420972</td>\n",
       "      <td>...</td>\n",
       "      <td>0.051365</td>\n",
       "      <td>0.042565</td>\n",
       "      <td>1.107900</td>\n",
       "      <td>134.454455</td>\n",
       "      <td>75.290911</td>\n",
       "      <td>37.528973</td>\n",
       "      <td>12.890402</td>\n",
       "      <td>4.147495</td>\n",
       "      <td>2.941462</td>\n",
       "      <td>75.0</td>\n",
       "    </tr>\n",
       "    <tr>\n",
       "      <th>2</th>\n",
       "      <td>9</td>\n",
       "      <td>J011635-712604</td>\n",
       "      <td>19.148794</td>\n",
       "      <td>-71.434582</td>\n",
       "      <td>C</td>\n",
       "      <td>15.333000</td>\n",
       "      <td>0.000126</td>\n",
       "      <td>0.211749</td>\n",
       "      <td>1.604250</td>\n",
       "      <td>0.760491</td>\n",
       "      <td>...</td>\n",
       "      <td>0.044991</td>\n",
       "      <td>0.035686</td>\n",
       "      <td>1.070964</td>\n",
       "      <td>146.536321</td>\n",
       "      <td>212.246382</td>\n",
       "      <td>76.559525</td>\n",
       "      <td>7.207530</td>\n",
       "      <td>3.277982</td>\n",
       "      <td>2.514920</td>\n",
       "      <td>85.0</td>\n",
       "    </tr>\n",
       "    <tr>\n",
       "      <th>3</th>\n",
       "      <td>10</td>\n",
       "      <td>J010425-742733</td>\n",
       "      <td>16.106350</td>\n",
       "      <td>-74.459193</td>\n",
       "      <td>C</td>\n",
       "      <td>15.436000</td>\n",
       "      <td>0.000114</td>\n",
       "      <td>0.250807</td>\n",
       "      <td>1.681606</td>\n",
       "      <td>0.825554</td>\n",
       "      <td>...</td>\n",
       "      <td>NaN</td>\n",
       "      <td>NaN</td>\n",
       "      <td>NaN</td>\n",
       "      <td>NaN</td>\n",
       "      <td>NaN</td>\n",
       "      <td>NaN</td>\n",
       "      <td>0.000000</td>\n",
       "      <td>0.000000</td>\n",
       "      <td>0.000000</td>\n",
       "      <td>0.0</td>\n",
       "    </tr>\n",
       "    <tr>\n",
       "      <th>4</th>\n",
       "      <td>13</td>\n",
       "      <td>J005535-723533</td>\n",
       "      <td>13.899411</td>\n",
       "      <td>-72.592574</td>\n",
       "      <td>C</td>\n",
       "      <td>15.053000</td>\n",
       "      <td>0.000085</td>\n",
       "      <td>0.162273</td>\n",
       "      <td>1.856299</td>\n",
       "      <td>2.545222</td>\n",
       "      <td>...</td>\n",
       "      <td>0.051652</td>\n",
       "      <td>0.041607</td>\n",
       "      <td>1.175806</td>\n",
       "      <td>528.762281</td>\n",
       "      <td>205.853270</td>\n",
       "      <td>124.857029</td>\n",
       "      <td>15.716833</td>\n",
       "      <td>3.918470</td>\n",
       "      <td>2.746319</td>\n",
       "      <td>94.0</td>\n",
       "    </tr>\n",
       "    <tr>\n",
       "      <th>...</th>\n",
       "      <td>...</td>\n",
       "      <td>...</td>\n",
       "      <td>...</td>\n",
       "      <td>...</td>\n",
       "      <td>...</td>\n",
       "      <td>...</td>\n",
       "      <td>...</td>\n",
       "      <td>...</td>\n",
       "      <td>...</td>\n",
       "      <td>...</td>\n",
       "      <td>...</td>\n",
       "      <td>...</td>\n",
       "      <td>...</td>\n",
       "      <td>...</td>\n",
       "      <td>...</td>\n",
       "      <td>...</td>\n",
       "      <td>...</td>\n",
       "      <td>...</td>\n",
       "      <td>...</td>\n",
       "      <td>...</td>\n",
       "      <td>...</td>\n",
       "    </tr>\n",
       "    <tr>\n",
       "      <th>224</th>\n",
       "      <td>367</td>\n",
       "      <td>J005732-741243</td>\n",
       "      <td>14.384618</td>\n",
       "      <td>-74.212140</td>\n",
       "      <td>A</td>\n",
       "      <td>439.358002</td>\n",
       "      <td>0.003553</td>\n",
       "      <td>0.007003</td>\n",
       "      <td>0.523250</td>\n",
       "      <td>9.375722</td>\n",
       "      <td>...</td>\n",
       "      <td>0.007104</td>\n",
       "      <td>0.007470</td>\n",
       "      <td>0.996982</td>\n",
       "      <td>250.627750</td>\n",
       "      <td>20.918872</td>\n",
       "      <td>18.031668</td>\n",
       "      <td>1.313300</td>\n",
       "      <td>0.059462</td>\n",
       "      <td>0.058016</td>\n",
       "      <td>48.0</td>\n",
       "    </tr>\n",
       "    <tr>\n",
       "      <th>225</th>\n",
       "      <td>368</td>\n",
       "      <td>J011050-731426</td>\n",
       "      <td>17.709450</td>\n",
       "      <td>-73.240658</td>\n",
       "      <td>A</td>\n",
       "      <td>51.610001</td>\n",
       "      <td>0.001398</td>\n",
       "      <td>0.006270</td>\n",
       "      <td>0.495232</td>\n",
       "      <td>11.287188</td>\n",
       "      <td>...</td>\n",
       "      <td>0.001699</td>\n",
       "      <td>0.001777</td>\n",
       "      <td>1.094730</td>\n",
       "      <td>414.534701</td>\n",
       "      <td>7.916474</td>\n",
       "      <td>7.575955</td>\n",
       "      <td>7.667419</td>\n",
       "      <td>0.096514</td>\n",
       "      <td>0.095107</td>\n",
       "      <td>96.0</td>\n",
       "    </tr>\n",
       "    <tr>\n",
       "      <th>226</th>\n",
       "      <td>369</td>\n",
       "      <td>J011056-731407</td>\n",
       "      <td>17.735087</td>\n",
       "      <td>-73.235373</td>\n",
       "      <td>A</td>\n",
       "      <td>100.070999</td>\n",
       "      <td>0.000631</td>\n",
       "      <td>0.020193</td>\n",
       "      <td>0.526336</td>\n",
       "      <td>5.155414</td>\n",
       "      <td>...</td>\n",
       "      <td>0.003909</td>\n",
       "      <td>0.003735</td>\n",
       "      <td>1.095138</td>\n",
       "      <td>348.399054</td>\n",
       "      <td>14.251403</td>\n",
       "      <td>13.925293</td>\n",
       "      <td>9.003338</td>\n",
       "      <td>0.315605</td>\n",
       "      <td>0.309079</td>\n",
       "      <td>97.0</td>\n",
       "    </tr>\n",
       "    <tr>\n",
       "      <th>227</th>\n",
       "      <td>370</td>\n",
       "      <td>J011049-731428</td>\n",
       "      <td>17.706215</td>\n",
       "      <td>-73.241230</td>\n",
       "      <td>A</td>\n",
       "      <td>404.013000</td>\n",
       "      <td>0.004489</td>\n",
       "      <td>0.006336</td>\n",
       "      <td>0.498258</td>\n",
       "      <td>11.825352</td>\n",
       "      <td>...</td>\n",
       "      <td>0.001643</td>\n",
       "      <td>0.001652</td>\n",
       "      <td>1.096448</td>\n",
       "      <td>408.842799</td>\n",
       "      <td>7.133093</td>\n",
       "      <td>6.810734</td>\n",
       "      <td>7.759921</td>\n",
       "      <td>0.097481</td>\n",
       "      <td>0.096668</td>\n",
       "      <td>95.0</td>\n",
       "    </tr>\n",
       "    <tr>\n",
       "      <th>228</th>\n",
       "      <td>373</td>\n",
       "      <td>J005611-710707</td>\n",
       "      <td>14.046943</td>\n",
       "      <td>-71.118842</td>\n",
       "      <td>B</td>\n",
       "      <td>612.534973</td>\n",
       "      <td>0.005147</td>\n",
       "      <td>0.006144</td>\n",
       "      <td>0.125771</td>\n",
       "      <td>2.430481</td>\n",
       "      <td>...</td>\n",
       "      <td>0.001215</td>\n",
       "      <td>0.001140</td>\n",
       "      <td>1.022068</td>\n",
       "      <td>568.187322</td>\n",
       "      <td>38.971550</td>\n",
       "      <td>35.143014</td>\n",
       "      <td>0.822637</td>\n",
       "      <td>0.044265</td>\n",
       "      <td>0.044092</td>\n",
       "      <td>28.0</td>\n",
       "    </tr>\n",
       "  </tbody>\n",
       "</table>\n",
       "<p>229 rows × 41 columns</p>\n",
       "</div>"
      ],
      "text/plain": [
       "      id       comp_name         ra        dec rating   flux_peak  mean_cont  \\\n",
       "0      1  J004725-712727  11.855960 -71.457707      B   15.015000   0.000158   \n",
       "1      5  J002620-743741   6.586833 -74.628167      C   15.201000   0.000142   \n",
       "2      9  J011635-712604  19.148794 -71.434582      C   15.333000   0.000126   \n",
       "3     10  J010425-742733  16.106350 -74.459193      C   15.436000   0.000114   \n",
       "4     13  J005535-723533  13.899411 -72.592574      C   15.053000   0.000085   \n",
       "..   ...             ...        ...        ...    ...         ...        ...   \n",
       "224  367  J005732-741243  14.384618 -74.212140      A  439.358002   0.003553   \n",
       "225  368  J011050-731426  17.709450 -73.240658      A   51.610001   0.001398   \n",
       "226  369  J011056-731407  17.735087 -73.235373      A  100.070999   0.000631   \n",
       "227  370  J011049-731428  17.706215 -73.241230      A  404.013000   0.004489   \n",
       "228  373  J005611-710707  14.046943 -71.118842      B  612.534973   0.005147   \n",
       "\n",
       "      sd_cont  opacity_range  max_s_max_n  ...  e_r_hi_high  e_r_hi_low  \\\n",
       "0    0.200373       1.112578     1.092385  ...     0.040719    0.032844   \n",
       "1    0.264009       1.974683     1.420972  ...     0.051365    0.042565   \n",
       "2    0.211749       1.604250     0.760491  ...     0.044991    0.035686   \n",
       "3    0.250807       1.681606     0.825554  ...          NaN         NaN   \n",
       "4    0.162273       1.856299     2.545222  ...     0.051652    0.041607   \n",
       "..        ...            ...          ...  ...          ...         ...   \n",
       "224  0.007003       0.523250     9.375722  ...     0.007104    0.007470   \n",
       "225  0.006270       0.495232    11.287188  ...     0.001699    0.001777   \n",
       "226  0.020193       0.526336     5.155414  ...     0.003909    0.003735   \n",
       "227  0.006336       0.498258    11.825352  ...     0.001643    0.001652   \n",
       "228  0.006144       0.125771     2.430481  ...     0.001215    0.001140   \n",
       "\n",
       "        f_int     mean_ts  e_mean_ts_high  e_mean_ts_low         ew  \\\n",
       "0    1.102807   49.982099       15.397164      10.247781   7.717247   \n",
       "1    1.107900  134.454455       75.290911      37.528973  12.890402   \n",
       "2    1.070964  146.536321      212.246382      76.559525   7.207530   \n",
       "3         NaN         NaN             NaN            NaN   0.000000   \n",
       "4    1.175806  528.762281      205.853270     124.857029  15.716833   \n",
       "..        ...         ...             ...            ...        ...   \n",
       "224  0.996982  250.627750       20.918872      18.031668   1.313300   \n",
       "225  1.094730  414.534701        7.916474       7.575955   7.667419   \n",
       "226  1.095138  348.399054       14.251403      13.925293   9.003338   \n",
       "227  1.096448  408.842799        7.133093       6.810734   7.759921   \n",
       "228  1.022068  568.187322       38.971550      35.143014   0.822637   \n",
       "\n",
       "     e_ew_high  e_ew_low  num_chan  \n",
       "0     2.284283  1.608270      40.0  \n",
       "1     4.147495  2.941462      75.0  \n",
       "2     3.277982  2.514920      85.0  \n",
       "3     0.000000  0.000000       0.0  \n",
       "4     3.918470  2.746319      94.0  \n",
       "..         ...       ...       ...  \n",
       "224   0.059462  0.058016      48.0  \n",
       "225   0.096514  0.095107      96.0  \n",
       "226   0.315605  0.309079      97.0  \n",
       "227   0.097481  0.096668      95.0  \n",
       "228   0.044265  0.044092      28.0  \n",
       "\n",
       "[229 rows x 41 columns]"
      ]
     },
     "execution_count": 22,
     "metadata": {},
     "output_type": "execute_result"
    }
   ],
   "source": [
    "df"
   ]
  },
  {
   "cell_type": "code",
   "execution_count": 23,
   "metadata": {},
   "outputs": [],
   "source": [
    "plt.rc('text', usetex=False)\n",
    "plt.rc('font', family='serif')\n",
    "sns.set(style=\"darkgrid\")\n",
    "sns.set_context('paper')"
   ]
  },
  {
   "cell_type": "code",
   "execution_count": 17,
   "metadata": {},
   "outputs": [
    {
     "data": {
      "image/png": "[encoded data removed]",
      "text/plain": [
       "<Figure size 288x360 with 2 Axes>"
      ]
     },
     "metadata": {},
     "output_type": "display_data"
    }
   ],
   "source": [
    "from matplotlib.legend import Legend\n",
    "\n",
    "#fig, ax = plt.subplots(figsize=(6,4))\n",
    "fig, ax = plt.subplots(2,1, figsize=(4,5))\n",
    "\n",
    "ecdf = sns.ecdfplot(data=df, x=\"sd_cont\", hue='has_other_abs', ax=ax[0], legend=False)\n",
    "ax[0].set_xlabel(r'1$\\sigma$ Opacity Noise (e$^{-\\tau}$)')\n",
    "ax[0].legend(['Detections', 'Non Detections'], loc='lower right')\n",
    "\n",
    "\n",
    "sns.ecdfplot(data=df, x=\"flux_peak\", hue='has_other_abs', ax=ax[1], legend=False)\n",
    "ax[1].set_xlabel(r'Continuum Source Peak Flux (mJy)')\n",
    "ax[1].legend(['Detections', 'Non Detections'])\n",
    "\n",
    "fig.tight_layout()\n",
    "\n",
    "plt.savefig('figures/spectra_by_peak_flux.png', bbox_inches='tight', dpi=200)"
   ]
  },
  {
   "cell_type": "code",
   "execution_count": 18,
   "metadata": {},
   "outputs": [
    {
     "data": {
      "image/png": "[encoded data removed]",
      "text/plain": [
       "<Figure size 288x360 with 2 Axes>"
      ]
     },
     "metadata": {},
     "output_type": "display_data"
    }
   ],
   "source": [
    "from matplotlib.legend import Legend\n",
    "\n",
    "#fig, ax = plt.subplots(figsize=(6,4))\n",
    "fig, ax = plt.subplots(2,1, figsize=(4,5))\n",
    "\n",
    "ecdf = sns.ecdfplot(data=df, x=\"sd_cont\", hue='has_other_abs', ax=ax[0], legend=False)\n",
    "ax[0].set_xlabel(r'1$\\sigma$ Opacity Noise (e$^{-\\tau}$)')\n",
    "ax[0].legend(['Detections', 'Non Detections'], loc='lower right')\n",
    "\n",
    "\n",
    "sns.ecdfplot(data=df, x=\"flux_peak\", hue='has_other_abs', ax=ax[1], legend=False)\n",
    "ax[1].set_xlabel(r'Continuum Source Peak Flux (mJy)')\n",
    "ax[1].legend(['Detections', 'Non Detections'])\n",
    "\n",
    "fig.tight_layout()\n",
    "\n"
   ]
  },
  {
   "cell_type": "code",
   "execution_count": 19,
   "metadata": {},
   "outputs": [
    {
     "name": "stderr",
     "output_type": "stream",
     "text": [
      "/Users/jamesdempsey/anaconda/envs/python3/lib/python3.6/site-packages/pandas/core/series.py:856: RuntimeWarning: divide by zero encountered in log10\n",
      "  result = getattr(ufunc, method)(*inputs, **kwargs)\n"
     ]
    },
    {
     "data": {
      "image/png": "[encoded data removed]",
      "text/plain": [
       "<Figure size 324x216 with 1 Axes>"
      ]
     },
     "metadata": {},
     "output_type": "display_data"
    }
   ],
   "source": [
    "sns.set(style=\"darkgrid\")\n",
    "sns.set_context('paper')\n",
    "\n",
    "plt.rc('text', usetex=False)\n",
    "plt.rc('font', family='serif')\n",
    "fig, ax = plt.subplots(1,1, figsize=(4.5,3))\n",
    "\n",
    "df['log_uncorr'] = np.log10(df['nh_uncorr'])\n",
    "ecdf = sns.ecdfplot(data=df, x=\"log_uncorr\", hue='has_other_abs', ax=ax, legend=False)\n",
    "ax.set_xlabel(r'Column Density ( log$_{10}$(N$_{\\rm HI,GASKAP,uncorr}$) )')\n",
    "plt.legend(['Detections', 'Non Detections'])\n",
    "plt.savefig('figures/column_density.pdf', bbox_inches='tight')\n",
    "\n",
    "ax.set_title('SMC Field Absorption Detections by Column Density')\n",
    "plt.savefig('figures/column_density_all.png', bbox_inches='tight', dpi=200)"
   ]
  },
  {
   "cell_type": "code",
   "execution_count": 20,
   "metadata": {},
   "outputs": [
    {
     "name": "stderr",
     "output_type": "stream",
     "text": [
      "/Users/jamesdempsey/anaconda/envs/python3/lib/python3.6/site-packages/pandas/core/series.py:856: RuntimeWarning: divide by zero encountered in log10\n",
      "  result = getattr(ufunc, method)(*inputs, **kwargs)\n"
     ]
    },
    {
     "data": {
      "image/png": "[encoded data removed]",
      "text/plain": [
       "<Figure size 324x216 with 1 Axes>"
      ]
     },
     "metadata": {},
     "output_type": "display_data"
    }
   ],
   "source": [
    "sns.set(style=\"darkgrid\")\n",
    "sns.set_context('paper')\n",
    "\n",
    "plt.rc('text', usetex=False)\n",
    "plt.rc('font', family='serif')\n",
    "fig, ax = plt.subplots(1,1, figsize=(4.5,3))\n",
    "\n",
    "df['log_uncorr'] = np.log10(df['nh_uncorr'])\n",
    "ecdf = sns.ecdfplot(data=df[df['sd_cont'] < 0.25], x=\"log_uncorr\", hue='has_other_abs', ax=ax, legend=False)\n",
    "sns.ecdfplot(data=df[df['has_other_abs']==False], x=\"log_uncorr\", ax=ax, legend=False, c=sns.color_palette()[2])\n",
    "ax.set_xlabel(r'Column Density ( log$_{10}$(N$_{\\rm HI,GASKAP,uncorr}$) )')\n",
    "plt.legend(['Detections', 'Non Detections (low noise)', 'Non Detections (all)'])\n",
    "plt.savefig('figures/column_density.pdf', bbox_inches='tight')\n",
    "ax.vlines(np.log10(2e21), 0, 1, colors='purple', ls='--', zorder=1)\n",
    "\n",
    "ax.set_title('SMC Field Absorption Detections by Column Density')\n",
    "plt.savefig('figures/column_density_diagnostic.png', bbox_inches='tight', dpi=200)"
   ]
  },
  {
   "cell_type": "code",
   "execution_count": 21,
   "metadata": {},
   "outputs": [
    {
     "name": "stderr",
     "output_type": "stream",
     "text": [
      "/Users/jamesdempsey/anaconda/envs/python3/lib/python3.6/site-packages/pandas/core/series.py:856: RuntimeWarning: divide by zero encountered in log10\n",
      "  result = getattr(ufunc, method)(*inputs, **kwargs)\n"
     ]
    },
    {
     "data": {
      "image/png": "[encoded data removed]",
      "text/plain": [
       "<Figure size 360x270 with 1 Axes>"
      ]
     },
     "metadata": {},
     "output_type": "display_data"
    }
   ],
   "source": [
    "sns.set(style=\"darkgrid\")\n",
    "sns.set_context('paper')\n",
    "\n",
    "plt.rc('text', usetex=False)\n",
    "plt.rc('font', family='serif')\n",
    "#fig, ax = plt.subplots(1,1, figsize=(4.5,3))\n",
    "fig, ax = plt.subplots(1,1, figsize=(5,3.75))\n",
    "\n",
    "df['log_uncorr'] = np.log10(df['nh_uncorr'])\n",
    "ecdf = sns.ecdfplot(data=df[df['sd_cont'] < 0.25], x=\"log_uncorr\", hue='has_other_abs', ax=ax, legend=False)\n",
    "ax.set_xlabel(r'Column Density ( log$_{10}$(N$_{\\rm HI,GASKAP,uncorr}$) )')\n",
    "ax.vlines(np.log10(2e21), 0, 1, colors=sns.color_palette('Greens_r')[0], ls='--', zorder=1)\n",
    "ax.xaxis.set_minor_locator(AutoMinorLocator())\n",
    "ax.tick_params(which='both', direction='in', bottom=True, top=True, color='w')\n",
    "ax.set_title('Absorption Detections by Column Density', size=12)\n",
    "\n",
    "\n",
    "plt.legend(['Detections', 'Non Detections'])\n",
    "plt.savefig('figures/column_density.pdf', bbox_inches='tight')\n",
    "\n",
    "plt.savefig('figures/column_density.png', bbox_inches='tight', dpi=200)"
   ]
  },
  {
   "cell_type": "code",
   "execution_count": 29,
   "metadata": {},
   "outputs": [
    {
     "name": "stderr",
     "output_type": "stream",
     "text": [
      "/Users/jamesdempsey/anaconda/envs/python3/lib/python3.6/site-packages/pandas/core/series.py:856: RuntimeWarning: divide by zero encountered in log10\n",
      "  result = getattr(ufunc, method)(*inputs, **kwargs)\n"
     ]
    },
    {
     "data": {
      "image/png": "[encoded data removed]",
      "text/plain": [
       "<Figure size 360x270 with 1 Axes>"
      ]
     },
     "metadata": {},
     "output_type": "display_data"
    }
   ],
   "source": [
    "sns.set(style=\"darkgrid\")\n",
    "sns.set_context('paper')\n",
    "\n",
    "plt.rc('text', usetex=False)\n",
    "plt.rc('font', family='serif')\n",
    "#fig, ax = plt.subplots(1,1, figsize=(4.5,3))\n",
    "fig, ax = plt.subplots(1,1, figsize=(5,3.75))\n",
    "\n",
    "df['log_uncorr'] = np.log10(df['nh_uncorr'])\n",
    "ecdf = sns.ecdfplot(data=df[df['sd_cont'] < 0.25], x=\"nh_uncorr\", hue='has_other_abs', ax=ax, legend=False)\n",
    "ax.set_xscale(\"log\", basex=10,subsx=[2, 3, 4, 5, 6, 7, 8, 9])\n",
    "ax.set_xlabel(r'Column Density ( log$_{10}$(N$_{\\rm HI,GASKAP,uncorr}$) )')\n",
    "#ax.vlines(np.log10(2e21), 0, 1, colors=sns.color_palette('Greens_r')[0], ls='--', zorder=1)\n",
    "ax.vlines(2e21, 0, 1, colors=sns.color_palette('Greens_r')[0], ls='--', zorder=1)\n",
    "\n",
    "plt.grid(True, which=\"major\", ls=\"-\")\n",
    "plt.grid(True, which=\"minor\", ls=\":\")\n",
    "\n",
    "\n",
    "#ax.xaxis.set_minor_locator(AutoMinorLocator())\n",
    "#ax.tick_params(which='both', direction='in', bottom=True, top=True, color='w')\n",
    "ax.set_title('Absorption Detections by Column Density', size=12)\n",
    "\n",
    "plt.legend(['Detections', 'Non Detections'])\n",
    "plt.savefig('figures/column_density_log.pdf', bbox_inches='tight')"
   ]
  },
  {
   "cell_type": "code",
   "execution_count": 53,
   "metadata": {},
   "outputs": [
    {
     "name": "stderr",
     "output_type": "stream",
     "text": [
      "/Users/jamesdempsey/anaconda/envs/python3/lib/python3.6/site-packages/pandas/core/series.py:856: RuntimeWarning: divide by zero encountered in log10\n",
      "  result = getattr(ufunc, method)(*inputs, **kwargs)\n",
      "/Users/jamesdempsey/anaconda/envs/python3/lib/python3.6/site-packages/ipykernel_launcher.py:30: UserWarning: The handle <matplotlib.collections.LineCollection object at 0x12228e908> has a label of '_hidden' which cannot be automatically added to the legend.\n"
     ]
    },
    {
     "name": "stdout",
     "output_type": "stream",
     "text": [
      "(0.0, 23.1)\n"
     ]
    },
    {
     "data": {
      "image/png": "[encoded data removed]",
      "text/plain": [
       "<Figure size 360x270 with 1 Axes>"
      ]
     },
     "metadata": {},
     "output_type": "display_data"
    }
   ],
   "source": [
    "sns.set(style=\"darkgrid\")\n",
    "sns.set_context('paper')\n",
    "\n",
    "plt.rc('text', usetex=False)\n",
    "plt.rc('font', family='serif')\n",
    "#fig, ax = plt.subplots(1,1, figsize=(4.5,3))\n",
    "fig, ax = plt.subplots(1,1, figsize=(5,3.75))\n",
    "\n",
    "df['log_uncorr'] = np.log10(df['nh_uncorr'])\n",
    "#ax.set_xscale(\"log\", basex=10,subsx=[2, 3, 4, 5, 6, 7, 8, 9])\n",
    "\n",
    "ecdf = sns.histplot(data=df[(df['sd_cont'] < 0.25) & (df['log_uncorr'] > 0)], x=\"log_uncorr\", hue='has_other_abs', ax=ax, \n",
    "                    legend=False, bins=20)\n",
    "#ecdf = sns.kdeplot(data=df[df['sd_cont'] < 0.25], x=\"nh_uncorr\", hue='has_other_abs', ax=ax, legend=False, multiple=\"stack\")\n",
    "#ecdf = sns.kdeplot(data=df[df['sd_cont'] < 0.25], x=\"nh_uncorr\", hue='has_other_abs', ax=ax, legend=False, multiple=\"stack\")\n",
    "print (ax.get_ylim())\n",
    "curr_ylim = ax.get_ylim()\n",
    "#ax.set_xscale(\"log\", basex=10,subsx=[2, 3, 4, 5, 6, 7, 8, 9])\n",
    "ax.set_xlabel(r'Column Density ( log$_{10}$(N$_{\\rm HI,GASKAP,uncorr}$) )')\n",
    "ax.vlines(np.log10(2e21), 0, curr_ylim[1], colors=sns.color_palette('Greens_r')[0], ls='--', zorder=1)\n",
    "ax.set_ylim(curr_ylim)\n",
    "plt.grid(True, which=\"major\", ls=\"-\")\n",
    "plt.grid(True, which=\"minor\", ls=\":\")\n",
    "\n",
    "\n",
    "#ax.xaxis.set_minor_locator(AutoMinorLocator())\n",
    "#ax.tick_params(which='both', direction='in', bottom=True, top=True, color='w')\n",
    "ax.set_title('Absorption Detections by Column Density', size=12)\n",
    "\n",
    "plt.legend(['_hidden', 'Detections', 'Non Detections'])\n",
    "plt.savefig('figures/column_density_log_hist.pdf', bbox_inches='tight')"
   ]
  },
  {
   "cell_type": "code",
   "execution_count": 20,
   "metadata": {},
   "outputs": [
    {
     "name": "stdout",
     "output_type": "stream",
     "text": [
      "222 65\n"
     ]
    }
   ],
   "source": [
    "noise_filt = df['sd_cont'] < 0.25\n",
    "print (len(df[noise_filt]), np.sum(df[noise_filt]['has_other_abs']))"
   ]
  },
  {
   "cell_type": "code",
   "execution_count": null,
   "metadata": {},
   "outputs": [],
   "source": []
  },
  {
   "cell_type": "markdown",
   "metadata": {},
   "source": [
    "### Filter absorption in noisy spectra which were later excluded\n",
    "\n",
    "In later analysis of the SMC spectra, a more rigorous criteria was used for the inclusion of spctra in the dataset:\n",
    "\n",
    "* continuum noise <= 0.3\n",
    "* beam_power >= 0.8\n",
    "\n",
    "Before further analysis of absorption, the set needs to be trimmed down to match the spectra"
   ]
  },
  {
   "cell_type": "code",
   "execution_count": 10,
   "metadata": {},
   "outputs": [
    {
     "name": "stdout",
     "output_type": "stream",
     "text": [
      "Of 134 features, 130 are retained.\n",
      "Wrote trimmed absoprtion table to gaskap_smc_absorption.vot\n"
     ]
    },
    {
     "name": "stderr",
     "output_type": "stream",
     "text": [
      "WARNING: W50: sb10944/v3a/askap_absorption.vot:37:3: W50: Invalid unit string 'mJy/beam' [astropy.io.votable.tree]\n",
      "WARNING: W50: sb10944/v3a/askap_absorption.vot:42:3: W50: Invalid unit string 'mJy/beam' [astropy.io.votable.tree]\n",
      "WARNING: W06: sb10944/v3a/askap_absorption.vot:93:3: W06: Invalid UCD 'phys.velocity;stat.min': Unknown word 'phys.velocity' [astropy.io.votable.tree]\n",
      "WARNING: W06: sb10944/v3a/askap_absorption.vot:98:3: W06: Invalid UCD 'phys.velocity;stat.max': Unknown word 'phys.velocity' [astropy.io.votable.tree]\n",
      "WARNING: W50: sb10944/v3a/askap_absorption.vot:103:3: W50: Invalid unit string 'chan' [astropy.io.votable.tree]\n",
      "WARNING: W50: ?:?:?: W50: Invalid unit string 'mJy/beam' [astropy.io.votable.tree]\n",
      "WARNING: W50: ?:?:?: W50: Invalid unit string 'chan' [astropy.io.votable.tree]\n"
     ]
    },
    {
     "data": {
      "text/html": [
       "<i>Table masked=True length=4</i>\n",
       "<table id=\"table4850383560\" class=\"table-striped table-bordered table-condensed\">\n",
       "<thead><tr><th>id</th><th>comp_name</th><th>abs_name</th><th>ra</th><th>dec</th><th>rating</th><th>flux_peak</th><th>mean_cont</th><th>sd_cont</th><th>opacity_range</th><th>max_s_max_n</th><th>max_noise</th><th>num_chan_noise</th><th>semi_maj_axis</th><th>semi_min_axis</th><th>pa</th><th>start_vel</th><th>end_vel</th><th>length</th><th>min_optical_depth</th><th>e_min_optical_depth</th><th>peak_tau</th><th>e_peak_tau</th><th>max_sigma</th></tr></thead>\n",
       "<thead><tr><th></th><th></th><th></th><th>deg</th><th>deg</th><th></th><th>mJy/beam</th><th>mJy/beam</th><th></th><th></th><th></th><th></th><th></th><th>arcsec</th><th>arcsec</th><th>deg</th><th>km / s</th><th>km / s</th><th>chan</th><th></th><th></th><th></th><th></th><th></th></tr></thead>\n",
       "<thead><tr><th>int64</th><th>str32</th><th>str32</th><th>float64</th><th>float64</th><th>str1</th><th>float64</th><th>float64</th><th>float64</th><th>float64</th><th>float64</th><th>float64</th><th>float64</th><th>float64</th><th>float64</th><th>float64</th><th>float64</th><th>float64</th><th>int64</th><th>float64</th><th>float64</th><th>float64</th><th>float64</th><th>float64</th></tr></thead>\n",
       "<tr><td>129</td><td>J014637-724855</td><td>J014637-724855_14</td><td>26.654795</td><td>-72.815511</td><td>B</td><td>16.833999633789062</td><td>4.378987941890955e-05</td><td>0.20003482622953167</td><td>1.386617660522461</td><td>1.6085959898399291</td><td>1.5315570831298828</td><td>70.0</td><td>8.687999725341797</td><td>7.776000213623047</td><td>148.17999267578125</td><td>14.347926565939416</td><td>15.347926565913717</td><td>2</td><td>0.189072385430336</td><td>0.2047678090496319</td><td>1.6656253337860107</td><td>0.7338152840582061</td><td>3.9602300441387808</td></tr>\n",
       "<tr><td>313</td><td>J002906-735349</td><td>J002906-735349_101</td><td>7.278655</td><td>-73.89707</td><td>A</td><td>91.98200225830078</td><td>0.000787205621600151</td><td>0.04545207737999783</td><td>0.9496815800666809</td><td>4.27475271616603</td><td>1.1800428628921509</td><td>118.0</td><td>3.7919998168945312</td><td>3.284000015258789</td><td>133.7899932861328</td><td>101.630649723504</td><td>108.630649723791</td><td>8</td><td>0.23036128282546997</td><td>0.06022470368232596</td><td>1.4681063890457153</td><td>0.23225063742103202</td><td>12.779452120416071</td></tr>\n",
       "<tr><td>352</td><td>J002411-735717</td><td>J002411-735717_97</td><td>6.047734</td><td>-73.954946</td><td>B</td><td>123.6449966430664</td><td>0.0007319849915802479</td><td>0.03682886412704189</td><td>0.3851681351661682</td><td>1.5645860419633262</td><td>1.1501872539520264</td><td>113.0</td><td>5.395999908447266</td><td>3.379999923706055</td><td>127.77999877929688</td><td>97.73889931384</td><td>98.738899313881</td><td>2</td><td>0.7650191187858582</td><td>0.043599872429329056</td><td>0.2678544521331787</td><td>0.05542701662060079</td><td>5.389485521890503</td></tr>\n",
       "<tr><td>356</td><td>J002143-741500</td><td>J002143-741500_123</td><td>5.43182</td><td>-74.250046</td><td>B</td><td>145.00799560546875</td><td>0.001453503407537937</td><td>0.04561975225886483</td><td>0.4490877389907837</td><td>1.6074107860325177</td><td>1.172235131263733</td><td>97.0</td><td>3.743999862670899</td><td>3.2360000610351562</td><td>137.64999389648438</td><td>123.920594745406</td><td>125.92059474548796</td><td>3</td><td>0.7231473922729492</td><td>0.05564614204300729</td><td>0.3241422176361084</td><td>0.07413291000655753</td><td>5.033043200585425</td></tr>\n",
       "</table>"
      ],
      "text/plain": [
       "<Table masked=True length=4>\n",
       "  id    comp_name    ...      e_peak_tau         max_sigma     \n",
       "                     ...                                       \n",
       "int64     str32      ...       float64            float64      \n",
       "----- -------------- ... ------------------- ------------------\n",
       "  129 J014637-724855 ...  0.7338152840582061 3.9602300441387808\n",
       "  313 J002906-735349 ... 0.23225063742103202 12.779452120416071\n",
       "  352 J002411-735717 ... 0.05542701662060079  5.389485521890503\n",
       "  356 J002143-741500 ... 0.07413291000655753  5.033043200585425"
      ]
     },
     "execution_count": 10,
     "metadata": {},
     "output_type": "execute_result"
    }
   ],
   "source": [
    "abs_tab = parse_single_table('sb10944/v3a/askap_absorption.vot').to_table()\n",
    "\n",
    "retained = np.isin(abs_tab['comp_name'], spec_tab['comp_name'])\n",
    "\n",
    "print (\"Of {} features, {} are retained.\".format(len(abs_tab), np.sum(retained)))\n",
    "\n",
    "abs_tab_trimmed = abs_tab[retained]\n",
    "\n",
    "filename = 'gaskap_smc_absorption.vot'\n",
    "abs_tab_trimmed.write(filename, table_id='gaskap_smc_absorption', format='votable', overwrite=True)\n",
    "print ('Wrote trimmed absoprtion table to', filename)\n",
    "\n",
    "\n",
    "abs_tab[~retained]"
   ]
  },
  {
   "cell_type": "markdown",
   "metadata": {},
   "source": [
    "### Plot of SMC absorption features by optical depth"
   ]
  },
  {
   "cell_type": "code",
   "execution_count": 11,
   "metadata": {},
   "outputs": [
    {
     "name": "stderr",
     "output_type": "stream",
     "text": [
      "WARNING: W50: gaskap_smc_absorption.vot:37:3: W50: Invalid unit string 'mJy/beam' [astropy.io.votable.tree]\n",
      "WARNING: W50: gaskap_smc_absorption.vot:42:3: W50: Invalid unit string 'mJy/beam' [astropy.io.votable.tree]\n",
      "WARNING: W06: gaskap_smc_absorption.vot:93:3: W06: Invalid UCD 'phys.velocity;stat.min': Unknown word 'phys.velocity' [astropy.io.votable.tree]\n",
      "WARNING: W06: gaskap_smc_absorption.vot:98:3: W06: Invalid UCD 'phys.velocity;stat.max': Unknown word 'phys.velocity' [astropy.io.votable.tree]\n",
      "WARNING: W50: gaskap_smc_absorption.vot:103:3: W50: Invalid unit string 'chan' [astropy.io.votable.tree]\n"
     ]
    }
   ],
   "source": [
    "abs_tab = parse_single_table('gaskap_smc_absorption.vot').to_table()\n",
    "smc_abs_tab = abs_tab[abs_tab['start_vel']> 50]"
   ]
  },
  {
   "cell_type": "code",
   "execution_count": 12,
   "metadata": {},
   "outputs": [
    {
     "data": {
      "text/html": [
       "<div>\n",
       "<style scoped>\n",
       "    .dataframe tbody tr th:only-of-type {\n",
       "        vertical-align: middle;\n",
       "    }\n",
       "\n",
       "    .dataframe tbody tr th {\n",
       "        vertical-align: top;\n",
       "    }\n",
       "\n",
       "    .dataframe thead th {\n",
       "        text-align: right;\n",
       "    }\n",
       "</style>\n",
       "<table border=\"1\" class=\"dataframe\">\n",
       "  <thead>\n",
       "    <tr style=\"text-align: right;\">\n",
       "      <th></th>\n",
       "      <th>id</th>\n",
       "      <th>comp_name</th>\n",
       "      <th>abs_name</th>\n",
       "      <th>ra</th>\n",
       "      <th>dec</th>\n",
       "      <th>rating</th>\n",
       "      <th>flux_peak</th>\n",
       "      <th>mean_cont</th>\n",
       "      <th>sd_cont</th>\n",
       "      <th>opacity_range</th>\n",
       "      <th>...</th>\n",
       "      <th>semi_min_axis</th>\n",
       "      <th>pa</th>\n",
       "      <th>start_vel</th>\n",
       "      <th>end_vel</th>\n",
       "      <th>length</th>\n",
       "      <th>min_optical_depth</th>\n",
       "      <th>e_min_optical_depth</th>\n",
       "      <th>peak_tau</th>\n",
       "      <th>e_peak_tau</th>\n",
       "      <th>max_sigma</th>\n",
       "    </tr>\n",
       "  </thead>\n",
       "  <tbody>\n",
       "    <tr>\n",
       "      <th>0</th>\n",
       "      <td>13</td>\n",
       "      <td>J005535-723533</td>\n",
       "      <td>J005535-723533_113</td>\n",
       "      <td>13.899411</td>\n",
       "      <td>-72.592574</td>\n",
       "      <td>C</td>\n",
       "      <td>15.053000</td>\n",
       "      <td>0.000085</td>\n",
       "      <td>0.162273</td>\n",
       "      <td>1.856299</td>\n",
       "      <td>...</td>\n",
       "      <td>4.432</td>\n",
       "      <td>140.710007</td>\n",
       "      <td>113.615978</td>\n",
       "      <td>114.615978</td>\n",
       "      <td>2</td>\n",
       "      <td>-0.332693</td>\n",
       "      <td>0.251391</td>\n",
       "      <td>5.000000</td>\n",
       "      <td>3.619253</td>\n",
       "      <td>5.301279</td>\n",
       "    </tr>\n",
       "    <tr>\n",
       "      <th>1</th>\n",
       "      <td>13</td>\n",
       "      <td>J005535-723533</td>\n",
       "      <td>J005535-723533_116</td>\n",
       "      <td>13.899411</td>\n",
       "      <td>-72.592574</td>\n",
       "      <td>C</td>\n",
       "      <td>15.053000</td>\n",
       "      <td>0.000085</td>\n",
       "      <td>0.162273</td>\n",
       "      <td>1.856299</td>\n",
       "      <td>...</td>\n",
       "      <td>4.432</td>\n",
       "      <td>140.710007</td>\n",
       "      <td>116.615978</td>\n",
       "      <td>117.615978</td>\n",
       "      <td>2</td>\n",
       "      <td>-0.067383</td>\n",
       "      <td>0.270182</td>\n",
       "      <td>5.000000</td>\n",
       "      <td>3.691341</td>\n",
       "      <td>3.950607</td>\n",
       "    </tr>\n",
       "    <tr>\n",
       "      <th>2</th>\n",
       "      <td>19</td>\n",
       "      <td>J005448-725353</td>\n",
       "      <td>J005448-725353_116</td>\n",
       "      <td>13.702572</td>\n",
       "      <td>-72.898137</td>\n",
       "      <td>C</td>\n",
       "      <td>15.988000</td>\n",
       "      <td>0.000155</td>\n",
       "      <td>0.180708</td>\n",
       "      <td>2.211228</td>\n",
       "      <td>...</td>\n",
       "      <td>3.268</td>\n",
       "      <td>137.130005</td>\n",
       "      <td>116.777136</td>\n",
       "      <td>118.777136</td>\n",
       "      <td>3</td>\n",
       "      <td>-0.122017</td>\n",
       "      <td>0.310779</td>\n",
       "      <td>5.000000</td>\n",
       "      <td>3.831327</td>\n",
       "      <td>3.610335</td>\n",
       "    </tr>\n",
       "    <tr>\n",
       "      <th>3</th>\n",
       "      <td>19</td>\n",
       "      <td>J005448-725353</td>\n",
       "      <td>J005448-725353_163</td>\n",
       "      <td>13.702572</td>\n",
       "      <td>-72.898137</td>\n",
       "      <td>C</td>\n",
       "      <td>15.988000</td>\n",
       "      <td>0.000155</td>\n",
       "      <td>0.180708</td>\n",
       "      <td>2.211228</td>\n",
       "      <td>...</td>\n",
       "      <td>3.268</td>\n",
       "      <td>137.130005</td>\n",
       "      <td>163.777136</td>\n",
       "      <td>167.777136</td>\n",
       "      <td>5</td>\n",
       "      <td>-0.476034</td>\n",
       "      <td>0.307786</td>\n",
       "      <td>5.000000</td>\n",
       "      <td>3.821651</td>\n",
       "      <td>4.795642</td>\n",
       "    </tr>\n",
       "    <tr>\n",
       "      <th>4</th>\n",
       "      <td>26</td>\n",
       "      <td>J010532-721331</td>\n",
       "      <td>J010532-721331_131</td>\n",
       "      <td>16.386939</td>\n",
       "      <td>-72.225495</td>\n",
       "      <td>C</td>\n",
       "      <td>16.306000</td>\n",
       "      <td>0.000134</td>\n",
       "      <td>0.206259</td>\n",
       "      <td>1.732353</td>\n",
       "      <td>...</td>\n",
       "      <td>3.228</td>\n",
       "      <td>138.699997</td>\n",
       "      <td>131.318491</td>\n",
       "      <td>133.318491</td>\n",
       "      <td>3</td>\n",
       "      <td>-0.032339</td>\n",
       "      <td>0.244997</td>\n",
       "      <td>5.000000</td>\n",
       "      <td>3.593490</td>\n",
       "      <td>4.213683</td>\n",
       "    </tr>\n",
       "    <tr>\n",
       "      <th>...</th>\n",
       "      <td>...</td>\n",
       "      <td>...</td>\n",
       "      <td>...</td>\n",
       "      <td>...</td>\n",
       "      <td>...</td>\n",
       "      <td>...</td>\n",
       "      <td>...</td>\n",
       "      <td>...</td>\n",
       "      <td>...</td>\n",
       "      <td>...</td>\n",
       "      <td>...</td>\n",
       "      <td>...</td>\n",
       "      <td>...</td>\n",
       "      <td>...</td>\n",
       "      <td>...</td>\n",
       "      <td>...</td>\n",
       "      <td>...</td>\n",
       "      <td>...</td>\n",
       "      <td>...</td>\n",
       "      <td>...</td>\n",
       "      <td>...</td>\n",
       "    </tr>\n",
       "    <tr>\n",
       "      <th>114</th>\n",
       "      <td>370</td>\n",
       "      <td>J011049-731428</td>\n",
       "      <td>J011049-731428_135</td>\n",
       "      <td>17.706215</td>\n",
       "      <td>-73.241230</td>\n",
       "      <td>A</td>\n",
       "      <td>404.013000</td>\n",
       "      <td>0.004489</td>\n",
       "      <td>0.006336</td>\n",
       "      <td>0.498258</td>\n",
       "      <td>...</td>\n",
       "      <td>3.368</td>\n",
       "      <td>132.330002</td>\n",
       "      <td>135.777646</td>\n",
       "      <td>148.777646</td>\n",
       "      <td>14</td>\n",
       "      <td>0.831592</td>\n",
       "      <td>0.008249</td>\n",
       "      <td>0.184414</td>\n",
       "      <td>0.009871</td>\n",
       "      <td>20.415632</td>\n",
       "    </tr>\n",
       "    <tr>\n",
       "      <th>115</th>\n",
       "      <td>370</td>\n",
       "      <td>J011049-731428</td>\n",
       "      <td>J011049-731428_150</td>\n",
       "      <td>17.706215</td>\n",
       "      <td>-73.241230</td>\n",
       "      <td>A</td>\n",
       "      <td>404.013000</td>\n",
       "      <td>0.004489</td>\n",
       "      <td>0.006336</td>\n",
       "      <td>0.498258</td>\n",
       "      <td>...</td>\n",
       "      <td>3.368</td>\n",
       "      <td>132.330002</td>\n",
       "      <td>150.777646</td>\n",
       "      <td>168.777646</td>\n",
       "      <td>19</td>\n",
       "      <td>0.540591</td>\n",
       "      <td>0.009988</td>\n",
       "      <td>0.615092</td>\n",
       "      <td>0.018307</td>\n",
       "      <td>45.997348</td>\n",
       "    </tr>\n",
       "    <tr>\n",
       "      <th>116</th>\n",
       "      <td>370</td>\n",
       "      <td>J011049-731428</td>\n",
       "      <td>J011049-731428_172</td>\n",
       "      <td>17.706215</td>\n",
       "      <td>-73.241230</td>\n",
       "      <td>A</td>\n",
       "      <td>404.013000</td>\n",
       "      <td>0.004489</td>\n",
       "      <td>0.006336</td>\n",
       "      <td>0.498258</td>\n",
       "      <td>...</td>\n",
       "      <td>3.368</td>\n",
       "      <td>132.330002</td>\n",
       "      <td>172.777646</td>\n",
       "      <td>175.777646</td>\n",
       "      <td>4</td>\n",
       "      <td>0.949157</td>\n",
       "      <td>0.009357</td>\n",
       "      <td>0.052181</td>\n",
       "      <td>0.009810</td>\n",
       "      <td>5.433862</td>\n",
       "    </tr>\n",
       "    <tr>\n",
       "      <th>117</th>\n",
       "      <td>370</td>\n",
       "      <td>J011049-731428</td>\n",
       "      <td>J011049-731428_177</td>\n",
       "      <td>17.706215</td>\n",
       "      <td>-73.241230</td>\n",
       "      <td>A</td>\n",
       "      <td>404.013000</td>\n",
       "      <td>0.004489</td>\n",
       "      <td>0.006336</td>\n",
       "      <td>0.498258</td>\n",
       "      <td>...</td>\n",
       "      <td>3.368</td>\n",
       "      <td>132.330002</td>\n",
       "      <td>177.777646</td>\n",
       "      <td>178.777646</td>\n",
       "      <td>2</td>\n",
       "      <td>0.958851</td>\n",
       "      <td>0.008615</td>\n",
       "      <td>0.042020</td>\n",
       "      <td>0.008945</td>\n",
       "      <td>4.776406</td>\n",
       "    </tr>\n",
       "    <tr>\n",
       "      <th>118</th>\n",
       "      <td>373</td>\n",
       "      <td>J005611-710707</td>\n",
       "      <td>J005611-710707_138</td>\n",
       "      <td>14.046943</td>\n",
       "      <td>-71.118842</td>\n",
       "      <td>B</td>\n",
       "      <td>612.534973</td>\n",
       "      <td>0.005147</td>\n",
       "      <td>0.006144</td>\n",
       "      <td>0.125771</td>\n",
       "      <td>...</td>\n",
       "      <td>3.276</td>\n",
       "      <td>133.139999</td>\n",
       "      <td>138.885131</td>\n",
       "      <td>148.885131</td>\n",
       "      <td>11</td>\n",
       "      <td>0.915897</td>\n",
       "      <td>0.007901</td>\n",
       "      <td>0.087852</td>\n",
       "      <td>0.008589</td>\n",
       "      <td>10.664882</td>\n",
       "    </tr>\n",
       "  </tbody>\n",
       "</table>\n",
       "<p>119 rows × 24 columns</p>\n",
       "</div>"
      ],
      "text/plain": [
       "      id       comp_name            abs_name         ra        dec rating  \\\n",
       "0     13  J005535-723533  J005535-723533_113  13.899411 -72.592574      C   \n",
       "1     13  J005535-723533  J005535-723533_116  13.899411 -72.592574      C   \n",
       "2     19  J005448-725353  J005448-725353_116  13.702572 -72.898137      C   \n",
       "3     19  J005448-725353  J005448-725353_163  13.702572 -72.898137      C   \n",
       "4     26  J010532-721331  J010532-721331_131  16.386939 -72.225495      C   \n",
       "..   ...             ...                 ...        ...        ...    ...   \n",
       "114  370  J011049-731428  J011049-731428_135  17.706215 -73.241230      A   \n",
       "115  370  J011049-731428  J011049-731428_150  17.706215 -73.241230      A   \n",
       "116  370  J011049-731428  J011049-731428_172  17.706215 -73.241230      A   \n",
       "117  370  J011049-731428  J011049-731428_177  17.706215 -73.241230      A   \n",
       "118  373  J005611-710707  J005611-710707_138  14.046943 -71.118842      B   \n",
       "\n",
       "      flux_peak  mean_cont   sd_cont  opacity_range  ...  semi_min_axis  \\\n",
       "0     15.053000   0.000085  0.162273       1.856299  ...          4.432   \n",
       "1     15.053000   0.000085  0.162273       1.856299  ...          4.432   \n",
       "2     15.988000   0.000155  0.180708       2.211228  ...          3.268   \n",
       "3     15.988000   0.000155  0.180708       2.211228  ...          3.268   \n",
       "4     16.306000   0.000134  0.206259       1.732353  ...          3.228   \n",
       "..          ...        ...       ...            ...  ...            ...   \n",
       "114  404.013000   0.004489  0.006336       0.498258  ...          3.368   \n",
       "115  404.013000   0.004489  0.006336       0.498258  ...          3.368   \n",
       "116  404.013000   0.004489  0.006336       0.498258  ...          3.368   \n",
       "117  404.013000   0.004489  0.006336       0.498258  ...          3.368   \n",
       "118  612.534973   0.005147  0.006144       0.125771  ...          3.276   \n",
       "\n",
       "             pa   start_vel     end_vel  length  min_optical_depth  \\\n",
       "0    140.710007  113.615978  114.615978       2          -0.332693   \n",
       "1    140.710007  116.615978  117.615978       2          -0.067383   \n",
       "2    137.130005  116.777136  118.777136       3          -0.122017   \n",
       "3    137.130005  163.777136  167.777136       5          -0.476034   \n",
       "4    138.699997  131.318491  133.318491       3          -0.032339   \n",
       "..          ...         ...         ...     ...                ...   \n",
       "114  132.330002  135.777646  148.777646      14           0.831592   \n",
       "115  132.330002  150.777646  168.777646      19           0.540591   \n",
       "116  132.330002  172.777646  175.777646       4           0.949157   \n",
       "117  132.330002  177.777646  178.777646       2           0.958851   \n",
       "118  133.139999  138.885131  148.885131      11           0.915897   \n",
       "\n",
       "     e_min_optical_depth  peak_tau  e_peak_tau  max_sigma  \n",
       "0               0.251391  5.000000    3.619253   5.301279  \n",
       "1               0.270182  5.000000    3.691341   3.950607  \n",
       "2               0.310779  5.000000    3.831327   3.610335  \n",
       "3               0.307786  5.000000    3.821651   4.795642  \n",
       "4               0.244997  5.000000    3.593490   4.213683  \n",
       "..                   ...       ...         ...        ...  \n",
       "114             0.008249  0.184414    0.009871  20.415632  \n",
       "115             0.009988  0.615092    0.018307  45.997348  \n",
       "116             0.009357  0.052181    0.009810   5.433862  \n",
       "117             0.008615  0.042020    0.008945   4.776406  \n",
       "118             0.007901  0.087852    0.008589  10.664882  \n",
       "\n",
       "[119 rows x 24 columns]"
      ]
     },
     "execution_count": 12,
     "metadata": {},
     "output_type": "execute_result"
    }
   ],
   "source": [
    "abs_df = abs_tab.to_pandas()\n",
    "smc_abs_df = smc_abs_tab.to_pandas()\n",
    "smc_abs_df"
   ]
  },
  {
   "cell_type": "code",
   "execution_count": 13,
   "metadata": {},
   "outputs": [],
   "source": [
    "min_opacity = np.maximum(smc_abs_tab['sd_cont'], smc_abs_tab['min_optical_depth'])"
   ]
  },
  {
   "cell_type": "code",
   "execution_count": 14,
   "metadata": {},
   "outputs": [
    {
     "name": "stdout",
     "output_type": "stream",
     "text": [
      "od=0.078 +- 0.078 tau=2.55 +- 1.00 or 0.00\n",
      "od=0.085 +- 0.085 tau=2.47 +- 1.00 or 0.00\n",
      "od=0.082 +- 0.082 tau=2.50 +- 1.00 or 0.00\n",
      "od=0.132 +- 0.105 tau=2.03 +- 0.80 or 1.59\n",
      "od=0.105 +- 0.105 tau=2.26 +- 1.00 or 0.00\n",
      "od=0.125 +- 0.125 tau=2.08 +- 1.00 or 0.00\n",
      "od=0.087 +- 0.087 tau=2.44 +- 1.00 or 0.00\n",
      "od=0.068 +- 0.068 tau=2.69 +- 1.00 or 0.00\n",
      "od=0.066 +- 0.066 tau=2.72 +- 1.00 or 0.00\n",
      "od=0.070 +- 0.070 tau=2.66 +- 1.00 or 0.00\n",
      "od=0.078 +- 0.055 tau=2.55 +- 0.70 or 1.22\n",
      "od=0.051 +- 0.051 tau=2.98 +- 1.00 or 0.00\n",
      "od=0.047 +- 0.047 tau=3.06 +- 1.00 or 0.00\n",
      "od=0.039 +- 0.035 tau=3.26 +- 0.92 or 2.48\n",
      "od=0.025 +- 0.025 tau=3.70 +- 1.00 or 0.00\n",
      "od=0.022 +- 0.022 tau=3.82 +- 1.00 or 0.00\n"
     ]
    },
    {
     "name": "stderr",
     "output_type": "stream",
     "text": [
      "/Users/jamesdempsey/anaconda/envs/python3/lib/python3.6/site-packages/ipykernel_launcher.py:10: RuntimeWarning: divide by zero encountered in log\n",
      "  # Remove the CWD from sys.path while we load stuff.\n"
     ]
    }
   ],
   "source": [
    "#num_samples = 40 # -100 to -60\n",
    "capped_min_od = min_opacity\n",
    "capped_min_od[capped_min_od < 0] = 0\n",
    "tau = -1* np.log(capped_min_od)\n",
    "tau[capped_min_od==0] = 5\n",
    "tau_nan = np.nan_to_num(tau, nan=5)\n",
    "min_od_noise = capped_min_od-smc_abs_tab['sd_cont']\n",
    "filt = min_od_noise < 0\n",
    "min_od_noise[filt] = capped_min_od[filt]+smc_abs_tab['sd_cont'][filt]\n",
    "tau_nan_max = -1* np.log(min_od_noise)\n",
    "tau_uncert = np.abs(smc_abs_tab['sd_cont'] / capped_min_od)\n",
    "tau_uncert_calc = np.abs(tau_nan_max - tau_nan)\n",
    "tau_uncert_plus = np.abs(tau_nan_max - tau_nan)\n",
    "tau_uncert_minus = np.abs(tau_nan_max - tau_nan)\n",
    "tau_uncert_calc\n",
    "\n",
    "#tau_uncert\n",
    "for idx, e_tau in enumerate(tau_uncert):\n",
    "    if tau_nan[idx] > 2 and min_opacity[idx] > 0:\n",
    "        print (\"od={:.3f} +- {:.3f} tau={:.2f} +- {:.2f} or {:.2f}\".format(\n",
    "            min_opacity[idx], smc_abs_tab['sd_cont'][idx], tau_nan[idx], e_tau, tau_uncert_calc[idx]))"
   ]
  },
  {
   "cell_type": "code",
   "execution_count": 15,
   "metadata": {},
   "outputs": [
    {
     "name": "stdout",
     "output_type": "stream",
     "text": [
      "(2, 119) [[1.         1.         1.         1.         1.         1.\n",
      "  0.17736063 1.47149291 0.18299948 0.20939231 0.1917752  0.63714873\n",
      "  1.         1.         1.         0.98905997 0.17578085 0.22418759\n",
      "  1.         1.         0.15355779 1.         0.26866676 0.08963402\n",
      "  0.07606271 0.12522418 0.08823671 0.07452414 0.07630159 0.07437167\n",
      "  0.17893746 1.59126945 0.23393516 0.25258011 0.52934225 0.77872765\n",
      "  0.1942038  0.56209026 0.3238653  0.10537017 1.         0.41150533\n",
      "  1.         0.19002858 1.         0.19568594 0.22572121 0.19040628\n",
      "  0.18701761 0.04251918 0.16316764 0.1135377  1.         0.20430634\n",
      "  0.09830525 1.         1.         0.09376994 0.21509272 0.08972053\n",
      "  0.0542412  0.52646719 0.06568075 0.0728092  0.06376186 0.06446283\n",
      "  0.07985471 1.21521462 0.06970043 0.12219942 0.15547517 0.04652761\n",
      "  0.09640354 0.11063365 0.08922457 1.         0.07522964 0.08924642\n",
      "  0.06761669 0.06611758 0.07533255 1.         0.06679331 0.08162684\n",
      "  0.04904158 0.07176635 0.06327043 0.0668311  0.06056078 0.17492705\n",
      "  0.02921598 0.02906303 2.48125513 0.05236726 1.54219822 1.\n",
      "  0.04275583 0.03450533 0.07505239 0.03436628 0.04171992 1.\n",
      "  0.0252144  0.02378219 0.02161274 0.02867907 0.01337301 0.00695312\n",
      "  0.00752004 0.01156965 0.0066117  0.00655707 0.0367805  0.00703785\n",
      "  0.00764846 0.01178998 0.00669792 0.00662998 0.00673121]\n",
      " [1.         1.         1.         1.         1.         1.\n",
      "  0.17736063 1.47149291 0.18299948 0.20939231 0.1917752  0.63714873\n",
      "  1.         1.         1.         0.98905997 0.17578085 0.22418759\n",
      "  1.         1.         0.15355779 1.         0.26866676 0.08963402\n",
      "  0.07606271 0.12522418 0.08823671 0.07452414 0.07630159 0.07437167\n",
      "  0.17893746 1.59126945 0.23393516 0.25258011 0.52934225 0.77872765\n",
      "  0.1942038  0.56209026 0.3238653  0.10537017 1.         0.41150533\n",
      "  1.         0.19002858 1.         0.19568594 0.22572121 0.19040628\n",
      "  0.18701761 0.04251918 0.16316764 0.1135377  1.         0.20430634\n",
      "  0.09830525 1.         1.         0.09376994 0.21509272 0.08972053\n",
      "  0.0542412  0.52646719 0.06568075 0.0728092  0.06376186 0.06446283\n",
      "  0.07985471 1.21521462 0.06970043 0.12219942 0.15547517 0.04652761\n",
      "  0.09640354 0.11063365 0.08922457 1.         0.07522964 0.08924642\n",
      "  0.06761669 0.06611758 0.07533255 1.         0.06679331 0.08162684\n",
      "  0.04904158 0.07176635 0.06327043 0.0668311  0.06056078 0.17492705\n",
      "  0.02921598 0.02906303 2.48125513 0.05236726 1.54219822 1.\n",
      "  0.04275583 0.03450533 0.07505239 0.03436628 0.04171992 1.\n",
      "  0.0252144  0.02378219 0.02161274 0.02867907 0.01337301 0.00695312\n",
      "  0.00752004 0.01156965 0.0066117  0.00655707 0.0367805  0.00703785\n",
      "  0.00764846 0.01178998 0.00669792 0.00662998 0.00673121]]\n"
     ]
    }
   ],
   "source": [
    "tau_uncert_calc = np.vstack([tau_uncert_plus.data, tau_uncert_minus.data])\n",
    "print (tau_uncert_calc.shape, tau_uncert_calc)"
   ]
  },
  {
   "cell_type": "code",
   "execution_count": 16,
   "metadata": {},
   "outputs": [
    {
     "data": {
      "text/plain": [
       "<ErrorbarContainer object of 3 artists>"
      ]
     },
     "execution_count": 16,
     "metadata": {},
     "output_type": "execute_result"
    },
    {
     "data": {
      "image/png": "[encoded data removed]",
      "text/plain": [
       "<Figure size 432x288 with 1 Axes>"
      ]
     },
     "metadata": {},
     "output_type": "display_data"
    }
   ],
   "source": [
    "plt.scatter(tau, smc_abs_tab['sd_cont'])\n",
    "#err_tau = -1* np.log(1-smc_abs_tab['sd_cont'])\n",
    "#tau_uncert = sigma_tau ** 2 / (gas_tau) ** 2\n",
    "#tau_uncert = smc_abs_tab['sd_cont'] ** 2 / tau ** 2\n",
    "plt.errorbar(tau, smc_abs_tab['sd_cont'], xerr=tau_uncert_calc, fmt=\"o\")\n",
    "#tau_uncert"
   ]
  },
  {
   "cell_type": "code",
   "execution_count": 17,
   "metadata": {},
   "outputs": [
    {
     "name": "stderr",
     "output_type": "stream",
     "text": [
      "/Users/jamesdempsey/anaconda/envs/python3/lib/python3.6/site-packages/ipykernel_launcher.py:5: RuntimeWarning: divide by zero encountered in log\n",
      "  \"\"\"\n"
     ]
    },
    {
     "data": {
      "text/plain": [
       "[<matplotlib.lines.Line2D at 0x121392198>]"
      ]
     },
     "execution_count": 17,
     "metadata": {},
     "output_type": "execute_result"
    },
    {
     "data": {
      "image/png": "[encoded data removed]",
      "text/plain": [
       "<Figure size 432x288 with 1 Axes>"
      ]
     },
     "metadata": {},
     "output_type": "display_data"
    }
   ],
   "source": [
    "min_opacity = np.maximum(0.01, smc_abs_tab['min_optical_depth'])\n",
    "tau = -1* np.log(min_opacity)\n",
    "plt.scatter(tau, smc_abs_tab['sd_cont'])\n",
    "noise_range = np.linspace(0, 0.22)\n",
    "plt.plot(-1* np.log(noise_range), noise_range)"
   ]
  },
  {
   "cell_type": "code",
   "execution_count": 18,
   "metadata": {},
   "outputs": [
    {
     "data": {
      "text/plain": [
       "array(['J013134-700042', 'J012924-733153', 'J013218-715348',\n",
       "       'J003037-742903', 'J003037-742901', 'J003414-733329',\n",
       "       'J011134-711414', 'J003242-733153', 'J012349-735039',\n",
       "       'J005715-704046', 'J005652-712300', 'J013704-730413',\n",
       "       'J013701-730415', 'J010930-713456', 'J005732-741243',\n",
       "       'J005611-710707'], dtype='<U32')"
      ]
     },
     "execution_count": 18,
     "metadata": {},
     "output_type": "execute_result"
    }
   ],
   "source": [
    "non_smc_body_abs = np.asarray(spec_tab['comp_name'][spec_tab['has_other_abs'] & (spec_tab['nh_uncorr'] < 2e21)])\n",
    "non_smc_body_abs"
   ]
  },
  {
   "cell_type": "code",
   "execution_count": 19,
   "metadata": {},
   "outputs": [
    {
     "name": "stderr",
     "output_type": "stream",
     "text": [
      "/Users/jamesdempsey/anaconda/envs/python3/lib/python3.6/site-packages/ipykernel_launcher.py:44: RuntimeWarning: divide by zero encountered in log\n"
     ]
    },
    {
     "data": {
      "image/png": "[encoded data removed]",
      "text/plain": [
       "<Figure size 360x270 with 1 Axes>"
      ]
     },
     "metadata": {},
     "output_type": "display_data"
    }
   ],
   "source": [
    "sns.set(style=\"darkgrid\")\n",
    "sns.set_context('paper')\n",
    "\n",
    "plt.rc('text', usetex=False)\n",
    "plt.rc('font', family='serif')\n",
    "\n",
    "#fig, ax = plt.subplots(1,1, figsize=(4.5,3))\n",
    "fig, ax = plt.subplots(1,1, figsize=(5,3.75))\n",
    "\n",
    "\n",
    "e_tau = smc_abs_tab['e_peak_tau']\n",
    "\n",
    "min_opacity = np.asarray(smc_abs_tab['min_optical_depth'])\n",
    "opacity_filter = min_opacity > 0\n",
    "tau = smc_abs_tab['peak_tau'][opacity_filter]\n",
    "\n",
    "noise = smc_abs_tab['sd_cont'][opacity_filter]\n",
    "e_tau_non_sat = e_tau[opacity_filter]\n",
    "non_smc_body_filter = np.isin(smc_abs_tab['comp_name'][opacity_filter], non_smc_body_abs)\n",
    "\n",
    "\n",
    "\n",
    "plt.errorbar(tau[~non_smc_body_filter], noise[~non_smc_body_filter], xerr=e_tau_non_sat[~non_smc_body_filter], color='grey', fmt='none', zorder=1, elinewidth=0.4)\n",
    "ax.scatter(tau[~non_smc_body_filter], noise[~non_smc_body_filter], c='C0', s=20, label=\"SMC body\")\n",
    "\n",
    "\n",
    "plt.errorbar(tau[non_smc_body_filter], noise[non_smc_body_filter], xerr=e_tau_non_sat[non_smc_body_filter], color='grey', fmt='none', zorder=1, elinewidth=0.4)\n",
    "ax.scatter(tau[non_smc_body_filter], noise[non_smc_body_filter], color=sns.color_palette()[1], marker='v', s=20, label=\"Outside SMC\")\n",
    "\n",
    "\n",
    "full_non_smc_body_filter = np.isin(smc_abs_tab['comp_name'], non_smc_body_abs)\n",
    "filt = ~opacity_filter & full_non_smc_body_filter\n",
    "saturated = np.ones((np.sum(filt)))*5\n",
    "ax.scatter(saturated, smc_abs_tab['sd_cont'][filt], color=sns.color_palette()[1], marker='+', s=40)\n",
    "#plt.errorbar(saturated, smc_abs_tab['sd_cont'][filt], xerr=e_tau[filt], color=sns.color_palette()[1], fmt=\"+\", alpha=0.6, ls=':')\n",
    "\n",
    "filt = ~opacity_filter & ~full_non_smc_body_filter\n",
    "saturated = np.ones((np.sum(filt)))*5\n",
    "ax.scatter(saturated, smc_abs_tab['sd_cont'][filt], color=sns.color_palette()[0], marker='+', s=40, label=\"Saturated\")\n",
    "#plt.errorbar(saturated, smc_abs_tab['sd_cont'][filt], xerr=e_tau[filt], color=sns.color_palette()[0], fmt=\"+\", alpha=0.6, ls=':')\n",
    "\n",
    "\n",
    "noise_range = np.linspace(0, 0.22)\n",
    "ax.plot(-1* np.log(noise_range), noise_range, color=sns.color_palette()[2], label=\"Noise limit\")\n",
    "ax.set_xlabel(r'Peak $\\tau$')\n",
    "ax.set_ylabel(r'1$\\sigma$ Optical Depth Noise ($e^{-\\tau}$)')\n",
    "ax.set_xlim(0,5.4)\n",
    "ax.set_ylim(-0.006,0.22)\n",
    "\n",
    "\n",
    "ax.legend(loc='upper left', bbox_to_anchor=(0.46, 0.98))\n",
    "#ax.legend(loc='upper right')\n",
    "ax.set_title('SMC Field Absorption Features', size=12)\n",
    "\n",
    "\n",
    "plt.savefig('figures/optical_depth.pdf', bbox_inches='tight')\n",
    "\n",
    "plt.savefig('figures/optical_depth.png', bbox_inches='tight', dpi=200)\n",
    "\n",
    "\n"
   ]
  },
  {
   "cell_type": "code",
   "execution_count": 32,
   "metadata": {},
   "outputs": [
    {
     "name": "stdout",
     "output_type": "stream",
     "text": [
      "Num features 119 num saturated 16 num in the noise 6 median tau for reliable 0.50\n",
      "Of the 97 good tau, min 0.04, med 0.50 max 3.26\n"
     ]
    }
   ],
   "source": [
    "in_noise_filter = (smc_abs_tab['min_optical_depth'] < smc_abs_tab['sd_cont']) & opacity_filter\n",
    "num_in_noise = np.sum(in_noise_filter)\n",
    "smc_good_tau = -1* np.log(min_opacity[~in_noise_filter &opacity_filter])\n",
    "#smc_abs_tab['min_opacity'][~in_noise_filter & opacity_filter]\n",
    "med_tau = np.median(smc_good_tau)\n",
    "print (\"Num features {} num saturated {} num in the noise {} median tau for reliable {:.2f}\".format(len(smc_abs_tab), np.sum(~opacity_filter), num_in_noise, med_tau))\n",
    "print (\"Of the {} good tau, min {:.2f}, med {:.2f} max {:.2f}\".format(len(smc_good_tau), np.min(smc_good_tau), np.median(smc_good_tau), np.max(smc_good_tau)))"
   ]
  },
  {
   "cell_type": "code",
   "execution_count": 33,
   "metadata": {},
   "outputs": [
    {
     "name": "stdout",
     "output_type": "stream",
     "text": [
      "Of the 17 non SMC body tau, min 0.09, med 0.42 max 1.30\n"
     ]
    }
   ],
   "source": [
    "non_smc_body_tau = -1* np.log(min_opacity[~in_noise_filter &opacity_filter & full_non_smc_body_filter])\n",
    "print (\"Of the {} non SMC body tau, min {:.2f}, med {:.2f} max {:.2f}\".format(\n",
    "    len(non_smc_body_tau), np.min(non_smc_body_tau), np.median(non_smc_body_tau), np.max(non_smc_body_tau)))"
   ]
  },
  {
   "cell_type": "code",
   "execution_count": 36,
   "metadata": {},
   "outputs": [
    {
     "name": "stdout",
     "output_type": "stream",
     "text": [
      "min  max num det   pct\n",
      " 0    30  49  22 44.9%\n",
      "30    50  11   8 72.7%\n",
      "50 10000  19  19 100.0%\n"
     ]
    }
   ],
   "source": [
    "prev_cap = 0\n",
    "print ('min  max num det   pct')\n",
    "for cap in [30, 50, 10000]:\n",
    "    src_filter = (spec_tab['flux_peak'] >= prev_cap) & (spec_tab['flux_peak'] < cap) & (spec_tab['nh_uncorr'] >= 2e21)\n",
    "    num_spec = np.sum(src_filter)\n",
    "    num_det = np.sum(spec_tab['has_other_abs'][src_filter])\n",
    "    print (\"{:2.0f} {:5d} {:3d} {:3d} {:.1f}%\".format(prev_cap, cap, num_spec, num_det, num_det/num_spec*100))\n",
    "    prev_cap = cap"
   ]
  },
  {
   "cell_type": "code",
   "execution_count": 37,
   "metadata": {},
   "outputs": [
    {
     "data": {
      "text/html": [
       "<div>\n",
       "<style scoped>\n",
       "    .dataframe tbody tr th:only-of-type {\n",
       "        vertical-align: middle;\n",
       "    }\n",
       "\n",
       "    .dataframe tbody tr th {\n",
       "        vertical-align: top;\n",
       "    }\n",
       "\n",
       "    .dataframe thead th {\n",
       "        text-align: right;\n",
       "    }\n",
       "</style>\n",
       "<table border=\"1\" class=\"dataframe\">\n",
       "  <thead>\n",
       "    <tr style=\"text-align: right;\">\n",
       "      <th></th>\n",
       "      <th>comp_name</th>\n",
       "      <th>count</th>\n",
       "    </tr>\n",
       "  </thead>\n",
       "  <tbody>\n",
       "    <tr>\n",
       "      <th>0</th>\n",
       "      <td>J003037-742901</td>\n",
       "      <td>1</td>\n",
       "    </tr>\n",
       "    <tr>\n",
       "      <th>1</th>\n",
       "      <td>J003037-742903</td>\n",
       "      <td>1</td>\n",
       "    </tr>\n",
       "    <tr>\n",
       "      <th>2</th>\n",
       "      <td>J003242-733153</td>\n",
       "      <td>1</td>\n",
       "    </tr>\n",
       "    <tr>\n",
       "      <th>3</th>\n",
       "      <td>J003414-733329</td>\n",
       "      <td>1</td>\n",
       "    </tr>\n",
       "    <tr>\n",
       "      <th>4</th>\n",
       "      <td>J003809-735024</td>\n",
       "      <td>2</td>\n",
       "    </tr>\n",
       "    <tr>\n",
       "      <th>...</th>\n",
       "      <td>...</td>\n",
       "      <td>...</td>\n",
       "    </tr>\n",
       "    <tr>\n",
       "      <th>60</th>\n",
       "      <td>J012924-733153</td>\n",
       "      <td>1</td>\n",
       "    </tr>\n",
       "    <tr>\n",
       "      <th>61</th>\n",
       "      <td>J013134-700042</td>\n",
       "      <td>1</td>\n",
       "    </tr>\n",
       "    <tr>\n",
       "      <th>62</th>\n",
       "      <td>J013218-715348</td>\n",
       "      <td>1</td>\n",
       "    </tr>\n",
       "    <tr>\n",
       "      <th>63</th>\n",
       "      <td>J013701-730415</td>\n",
       "      <td>1</td>\n",
       "    </tr>\n",
       "    <tr>\n",
       "      <th>64</th>\n",
       "      <td>J013704-730413</td>\n",
       "      <td>1</td>\n",
       "    </tr>\n",
       "  </tbody>\n",
       "</table>\n",
       "<p>65 rows × 2 columns</p>\n",
       "</div>"
      ],
      "text/plain": [
       "         comp_name  count\n",
       "0   J003037-742901      1\n",
       "1   J003037-742903      1\n",
       "2   J003242-733153      1\n",
       "3   J003414-733329      1\n",
       "4   J003809-735024      2\n",
       "..             ...    ...\n",
       "60  J012924-733153      1\n",
       "61  J013134-700042      1\n",
       "62  J013218-715348      1\n",
       "63  J013701-730415      1\n",
       "64  J013704-730413      1\n",
       "\n",
       "[65 rows x 2 columns]"
      ]
     },
     "execution_count": 37,
     "metadata": {},
     "output_type": "execute_result"
    }
   ],
   "source": [
    "df1 = smc_abs_df.groupby('comp_name')['abs_name'].agg(['count']).reset_index()\n",
    "df1.sort_values('comp_name')"
   ]
  },
  {
   "cell_type": "code",
   "execution_count": 38,
   "metadata": {},
   "outputs": [
    {
     "name": "stdout",
     "output_type": "stream",
     "text": [
      "Of 65 spectra, 36 have multiple features\n"
     ]
    }
   ],
   "source": [
    "print (\"Of {} spectra, {} have multiple features\".format(len(df1), np.sum(df1['count'] > 1)))"
   ]
  },
  {
   "cell_type": "code",
   "execution_count": 39,
   "metadata": {},
   "outputs": [
    {
     "name": "stdout",
     "output_type": "stream",
     "text": [
      "Of 16 spectra, 1 have multiple features\n"
     ]
    }
   ],
   "source": [
    "df2 = df1[np.isin(df1['comp_name'], non_smc_body_abs)]\n",
    "print (\"Of {} spectra, {} have multiple features\".format(len(df2), np.sum(df2['count'] > 1)))"
   ]
  },
  {
   "cell_type": "code",
   "execution_count": null,
   "metadata": {},
   "outputs": [],
   "source": [
    "df2"
   ]
  },
  {
   "cell_type": "markdown",
   "metadata": {},
   "source": [
    "### Comparison of detections with noise and flux"
   ]
  },
  {
   "cell_type": "code",
   "execution_count": null,
   "metadata": {},
   "outputs": [],
   "source": [
    "\n",
    "sns.displot(data=pd, x=\"flux_peak\", y=\"sd_cont\", hue='has_other_abs', log_scale=True)"
   ]
  },
  {
   "cell_type": "code",
   "execution_count": null,
   "metadata": {},
   "outputs": [],
   "source": [
    "\n",
    "#fig, ax = plt.subplots(figsize=(6,4))\n",
    "fig, ax = plt.subplots(2,1, figsize=(4,5), sharex=True)\n",
    "ecdf = sns.ecdfplot(data=pd[pd['n_h'] < 2e21], x=\"sd_cont\", hue='has_other_abs', ax=ax[0], legend=False)\n",
    "ax[0].set_ylabel(r'Non-SMC Proportion')\n",
    "ax[0].legend(['Detections', 'Non Detections'], loc='lower right')\n",
    "\n",
    "\n",
    "sns.ecdfplot(data=pd[pd['n_h'] >= 2e21], x=\"sd_cont\", hue='has_other_abs', ax=ax[1], legend=False)\n",
    "ax[1].set_xlabel(r'1$\\sigma$ Opacity Noise (e$^{-\\tau}$)')\n",
    "ax[1].set_ylabel(r'SMC Proportion')\n",
    "ax[1].legend(['Detections', 'Non Detections'], loc='lower right')\n",
    "\n",
    "fig.tight_layout()\n",
    "\n",
    "plt.savefig('figures/spectra_by_od_noise.png', bbox_inches='tight', dpi=200)"
   ]
  },
  {
   "cell_type": "code",
   "execution_count": null,
   "metadata": {},
   "outputs": [],
   "source": [
    "\n",
    "#fig, ax = plt.subplots(figsize=(6,4))\n",
    "fig, ax = plt.subplots(2,1, figsize=(4,5), sharex=True)\n",
    "ecdf = sns.ecdfplot(data=pd[pd['n_h'] < 2e21], x=\"flux_peak\", hue='has_other_abs', ax=ax[0],)\n",
    "ax[0].set_ylabel(r'Non-SMC Proportion')\n",
    "ax[0].legend(['Detections', 'Non Detections'], loc='lower right')\n",
    "\n",
    "sns.ecdfplot(data=pd[pd['n_h'] >= 2e21], x=\"flux_peak\", hue='has_other_abs', ax=ax[1], )\n",
    "ax[1].set_xlabel(r'Continuum Source Peak Flux (mJy)')\n",
    "ax[1].set_ylabel(r'SMC Proportion')\n",
    "ax[1].legend(['Detections', 'Non Detections'], loc='lower right')\n",
    "\n",
    "fig.tight_layout()\n",
    "\n",
    "plt.savefig('figures/spectra_by_peak_flux.png', bbox_inches='tight', dpi=200)"
   ]
  },
  {
   "cell_type": "code",
   "execution_count": null,
   "metadata": {},
   "outputs": [],
   "source": [
    "\n",
    "#fig, ax = plt.subplots(figsize=(6,4))\n",
    "fig, ax = plt.subplots(2,1, figsize=(4,5), sharex=True)\n",
    "ecdf = sns.histplot(data=pd[pd['n_h'] < 2e21], x=\"sd_cont\", hue='has_other_abs', ax=ax[0])\n",
    "#ax[0].set_ylabel()\n",
    "#ax[0].set_xlabel(r'1$\\sigma$ Opacity Noise (e$^{-\\tau}$)')\n",
    "\n",
    "#leg = Legend(ax, lines[2:], ['line C', 'line D'],\n",
    "#             loc='lower right', frameon=False)\n",
    "#ax[0].add_artist(leg);\n",
    "#ax[0].set_xlim((0, 1.4))\n",
    "\n",
    "\n",
    "\n",
    "sns.histplot(data=pd[pd['n_h'] >= 2e21], x=\"sd_cont\", hue='has_other_abs', ax=ax[1])\n",
    "\n",
    "#sns.ecdfplot(data=pd, x=\"flux_peak\", hue='has_other_abs', ax=ax[1])\n",
    "ax[1].set_xlabel(r'1$\\sigma$ Opacity Noise (e$^{-\\tau}$)')\n",
    "#ax[1].set_xlim((0, 1.4))\n",
    "#ax[1].set_xlabel(r'Continuum Source Peak Flux (mJy)')\n",
    "\n",
    "\n",
    "fig.tight_layout()"
   ]
  },
  {
   "cell_type": "code",
   "execution_count": null,
   "metadata": {},
   "outputs": [],
   "source": [
    "\n",
    "#fig, ax = plt.subplots(figsize=(6,4))\n",
    "fig, ax = plt.subplots(2,1, figsize=(4,5), sharex=True)\n",
    "ecdf = sns.ecdfplot(data=pd[pd['n_h'] < 2e21], x=\"flux_peak\", hue='has_other_abs', ax=ax[0],)\n",
    "#ax[0].set_ylabel()\n",
    "#ax[0].set_xlabel(r'1$\\sigma$ Opacity Noise (e$^{-\\tau}$)')\n",
    "\n",
    "#leg = Legend(ax, lines[2:], ['line C', 'line D'],\n",
    "#             loc='lower right', frameon=False)\n",
    "#ax[0].add_artist(leg);\n",
    "#x[0].set_xlim((0, 1.4))\n",
    "\n",
    "\n",
    "\n",
    "sns.ecdfplot(data=pd[pd['n_h'] >= 2e21], x=\"flux_peak\", hue='has_other_abs', ax=ax[1], )\n",
    "\n",
    "#sns.ecdfplot(data=pd, x=\"flux_peak\", hue='has_other_abs', ax=ax[1])\n",
    "ax[1].set_xlabel(r'Continuum Source Peak Flux (mJy)')\n",
    "#ax[1].set_xlim((0, 1.4))\n",
    "#ax[1].set_xlabel(r'Continuum Source Peak Flux (mJy)')\n",
    "\n",
    "\n",
    "\n",
    "fig.tight_layout()"
   ]
  },
  {
   "cell_type": "code",
   "execution_count": null,
   "metadata": {},
   "outputs": [],
   "source": [
    "sub_pd = pd[pd[\"min_opacity\"] > 0]\n",
    "g = sns.displot(data=sub_pd, x=-1*np.log(sub_pd[\"min_opacity\"]), y=\"sd_cont\", kind=\"kde\", rug=True, shade=True, )\n",
    "g.set_axis_labels(r\"Optical Depth ($\\tau$)\", r\"1$\\sigma$ Optical Depth Noise\")"
   ]
  },
  {
   "cell_type": "code",
   "execution_count": null,
   "metadata": {},
   "outputs": [],
   "source": [
    "tau_grid = pd[pd[\"min_opacity\"] > 0].pivot(\"sd_cont\", \"min_opacity\")\n",
    "sns.heatmap(tau_grid)\n",
    "#sns.heatmap(data=pd[pd[\"min_opacity\"] > 0], x=-1*np.log(pd[\"min_opacity\"]), y=\"sd_cont\", )"
   ]
  },
  {
   "cell_type": "code",
   "execution_count": null,
   "metadata": {},
   "outputs": [],
   "source": [
    "tau_grid"
   ]
  },
  {
   "cell_type": "code",
   "execution_count": null,
   "metadata": {},
   "outputs": [],
   "source": []
  }
 ],
 "metadata": {
  "kernelspec": {
   "display_name": "Python 3 (ipykernel)",
   "language": "python",
   "name": "python3"
  },
  "language_info": {
   "codemirror_mode": {
    "name": "ipython",
    "version": 3
   },
   "file_extension": ".py",
   "mimetype": "text/x-python",
   "name": "python",
   "nbconvert_exporter": "python",
   "pygments_lexer": "ipython3",
   "version": "3.8.12"
  }
 },
 "nbformat": 4,
 "nbformat_minor": 4
}
